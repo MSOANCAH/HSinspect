{
 "cells": [
  {
   "cell_type": "markdown",
   "metadata": {},
   "source": [
    "# Predictive model for health and safety inspections.\n",
    "\n",
    "# Training and testing\n",
    "\n",
    "## Note: remember to start postgresql server!"
   ]
  },
  {
   "cell_type": "code",
   "execution_count": 1,
   "metadata": {
    "collapsed": true
   },
   "outputs": [],
   "source": [
    "## Python packages\n",
    "import random\n",
    "import time\n",
    "from sqlalchemy import create_engine\n",
    "from sqlalchemy_utils import database_exists, create_database\n",
    "import psycopg2\n",
    "import pandas as pd\n",
    "\n",
    "import numpy as np\n",
    "import matplotlib.pyplot as plt\n",
    "%matplotlib inline\n",
    "\n",
    "from class_imb import downsample\n",
    "from osha import sic_division, fopi"
   ]
  },
  {
   "cell_type": "code",
   "execution_count": 2,
   "metadata": {
    "collapsed": true
   },
   "outputs": [],
   "source": [
    "# Database name and username\n",
    "dbname = 'osha_db'\n",
    "username = 'asc'\n",
    "\n",
    "# Connection to SQL database\n",
    "conn = None\n",
    "conn = psycopg2.connect(database = dbname, user = username)"
   ]
  },
  {
   "cell_type": "markdown",
   "metadata": {
    "collapsed": true
   },
   "source": [
    "## Query relevant data for model from database"
   ]
  },
  {
   "cell_type": "code",
   "execution_count": 3,
   "metadata": {
    "collapsed": true
   },
   "outputs": [],
   "source": [
    "# date, ownership, num. workers, union, SIC, state, target\n",
    "usa_6plus1_query = '''\n",
    "SELECT \n",
    "open_date, owner_type, nr_in_estab, union_status, sic_code, site_state, is_violation\n",
    "FROM inspections_table;\n",
    "'''"
   ]
  },
  {
   "cell_type": "code",
   "execution_count": 4,
   "metadata": {
    "collapsed": true
   },
   "outputs": [],
   "source": [
    "# Query from database\n",
    "sql_query = usa_6plus1_query\n",
    "\n",
    "my_data = pd.read_sql_query(sql_query, conn)\n",
    "#my_data.columns"
   ]
  },
  {
   "cell_type": "code",
   "execution_count": 5,
   "metadata": {},
   "outputs": [
    {
     "name": "stdout",
     "output_type": "stream",
     "text": [
      "Violation fraction over entire dataset: 0.255160867857\n"
     ]
    }
   ],
   "source": [
    "from osha import fopi\n",
    "print \"Violation fraction over entire dataset:\", fopi(my_data, 'is_violation')"
   ]
  },
  {
   "cell_type": "markdown",
   "metadata": {
    "collapsed": true
   },
   "source": [
    "# Data transformations"
   ]
  },
  {
   "cell_type": "code",
   "execution_count": 6,
   "metadata": {
    "collapsed": true
   },
   "outputs": [],
   "source": [
    "# Missing values\n",
    "\n",
    "# Fill NaN with zeroes or drop in number of employees\n",
    "\n",
    "method=\"drop\" #\"fill\"\n",
    "\n",
    "if(method==\"fill\"):\n",
    "    my_data['nr_in_estab'].fillna(0, inplace=True)\n",
    "elif(method==\"drop\"):\n",
    "    my_data.dropna(axis=0, inplace=True)\n",
    "elif(method==\"median\"):\n",
    "    my_data['nr_in_estab'].fillna(my_data['nr_in_estab'].median(), inplace=True)"
   ]
  },
  {
   "cell_type": "code",
   "execution_count": 7,
   "metadata": {},
   "outputs": [
    {
     "name": "stdout",
     "output_type": "stream",
     "text": [
      "Violation fraction over entire dataset: 0.291847348591\n"
     ]
    }
   ],
   "source": [
    "print \"Violation fraction over entire dataset:\", fopi(my_data, 'is_violation')"
   ]
  },
  {
   "cell_type": "code",
   "execution_count": 8,
   "metadata": {
    "collapsed": true
   },
   "outputs": [],
   "source": [
    "# Aggregate SIC numbers by division\n",
    "from osha import sic_division\n",
    "my_data['sic_code'] = my_data['sic_code'].apply(sic_division)"
   ]
  },
  {
   "cell_type": "code",
   "execution_count": 9,
   "metadata": {
    "collapsed": true
   },
   "outputs": [],
   "source": [
    "# Select data from 1996-2015\n",
    "\n",
    "start_date = '1996-1-1'\n",
    "end_date   = '2016-1-1'\n",
    "\n",
    "# Dataframe must be Series with dtype datetime64[ns]\n",
    "my_data['open_date'] = pd.to_datetime(my_data['open_date'])  \n",
    "mask = (my_data['open_date'] > start_date) & (my_data['open_date'] <= end_date)\n",
    "my_data = my_data.loc[mask]"
   ]
  },
  {
   "cell_type": "code",
   "execution_count": 10,
   "metadata": {},
   "outputs": [
    {
     "name": "stdout",
     "output_type": "stream",
     "text": [
      "Violation fraction for years 1996-2015: 0.353422242022\n"
     ]
    }
   ],
   "source": [
    "print \"Violation fraction for years 1996-2015:\", fopi(my_data, 'is_violation')"
   ]
  },
  {
   "cell_type": "code",
   "execution_count": 11,
   "metadata": {
    "collapsed": true
   },
   "outputs": [],
   "source": [
    "# Now discard date column\n",
    "XY = my_data.drop('open_date', axis=1)"
   ]
  },
  {
   "cell_type": "code",
   "execution_count": 12,
   "metadata": {
    "collapsed": true
   },
   "outputs": [],
   "source": [
    "# Create dummies for all categorical variables\n",
    "XY = pd.get_dummies(XY, columns=[\n",
    "    'sic_code', \n",
    "    'owner_type', \n",
    "    'union_status',\n",
    "    'site_state',\n",
    "    ])"
   ]
  },
  {
   "cell_type": "code",
   "execution_count": 14,
   "metadata": {
    "collapsed": true
   },
   "outputs": [],
   "source": [
    "# Downsample data\n",
    "from class_imb import downsample\n",
    "\n",
    "XY = downsample(XY, 'is_violation')"
   ]
  },
  {
   "cell_type": "markdown",
   "metadata": {},
   "source": [
    "### Split into train and test sets for later use"
   ]
  },
  {
   "cell_type": "code",
   "execution_count": 17,
   "metadata": {},
   "outputs": [
    {
     "name": "stdout",
     "output_type": "stream",
     "text": [
      " Violation fraction after downsampling: 0.5\n"
     ]
    }
   ],
   "source": [
    "print \"Violation fraction after downsampling:\", fopi(XY, 'is_violation')"
   ]
  },
  {
   "cell_type": "code",
   "execution_count": 18,
   "metadata": {
    "scrolled": true
   },
   "outputs": [
    {
     "name": "stdout",
     "output_type": "stream",
     "text": [
      "Proportions of class 1\n",
      "   Training data:  0.500074245327\n",
      "   Test data:      0.499703019304\n"
     ]
    }
   ],
   "source": [
    "from sklearn.model_selection import train_test_split\n",
    "\n",
    "test_fraction = 0.20\n",
    "\n",
    "X = XY.drop('is_violation', axis=1)\n",
    "Y = XY['is_violation']\n",
    "\n",
    "X_train, X_test, y_train, y_test = train_test_split(\n",
    "    X, Y, \n",
    "    test_size=test_fraction, \n",
    "    random_state=np.random.seed(int(time.time())))\n",
    "\n",
    "p1_train = float(sum(y_train))/y_train.shape[0] \n",
    "p1_test = float(sum(y_test))/y_test.shape[0]\n",
    "print \"Proportions of class 1\"\n",
    "print \"   Training data: \", p1_train\n",
    "print \"   Test data:     \", p1_test"
   ]
  },
  {
   "cell_type": "markdown",
   "metadata": {
    "collapsed": true
   },
   "source": [
    "# Hyperparameter search"
   ]
  },
  {
   "cell_type": "code",
   "execution_count": 19,
   "metadata": {
    "collapsed": true
   },
   "outputs": [],
   "source": [
    "# Utility function to report best scores of random search of hyperparameters\n",
    "\n",
    "\n",
    "from time import time\n",
    "\n",
    "def print_RSCV_results(results, n_top=3):\n",
    "    '''\n",
    "    Print results of Randomized Search CV\n",
    "    \n",
    "    INPUT\n",
    "      - results : results object of RandomizedSearchCV\n",
    "      - n_top   : number of models to display, from highest to lowest metric\n",
    "    \n",
    "    OUTPUT\n",
    "      - none\n",
    "    '''\n",
    "    \n",
    "    for i in range(1, n_top + 1):\n",
    "        candidates = np.flatnonzero(results['rank_test_score'] == i)\n",
    "        for candidate in candidates:\n",
    "            print \"Model with rank: {0}\".format(i)\n",
    "            print \"Mean validation score: {0:.3f} (std: {1:.3f})\".format(\n",
    "                results['mean_test_score'][candidate],\n",
    "                results['std_test_score'][candidate])\n",
    "            print \"Parameters: {0}\".format(results['params'][candidate])\n",
    "            print \"\"# specify parameters and distributions to sample from\n",
    "        "
   ]
  },
  {
   "cell_type": "code",
   "execution_count": 20,
   "metadata": {
    "collapsed": true
   },
   "outputs": [],
   "source": [
    "from scipy.stats import randint as sp_randint\n",
    "from sklearn.ensemble import RandomForestClassifier\n",
    "from sklearn.model_selection import RandomizedSearchCV"
   ]
  },
  {
   "cell_type": "code",
   "execution_count": 22,
   "metadata": {},
   "outputs": [
    {
     "name": "stdout",
     "output_type": "stream",
     "text": [
      "Fitting 8 folds for each of 5 candidates, totalling 40 fits\n",
      "[CV] max_features=4, min_samples_split=8, criterion=gini, n_estimators=10, min_samples_leaf=3 \n",
      "[CV] max_features=4, min_samples_split=8, criterion=gini, n_estimators=10, min_samples_leaf=3 \n",
      "[CV]  max_features=4, min_samples_split=8, criterion=gini, n_estimators=10, min_samples_leaf=3, total= 1.4min\n",
      "[CV] max_features=4, min_samples_split=8, criterion=gini, n_estimators=10, min_samples_leaf=3 \n",
      "[CV]  max_features=4, min_samples_split=8, criterion=gini, n_estimators=10, min_samples_leaf=3, total= 1.5min\n",
      "[CV] max_features=4, min_samples_split=8, criterion=gini, n_estimators=10, min_samples_leaf=3 \n",
      "[CV]  max_features=4, min_samples_split=8, criterion=gini, n_estimators=10, min_samples_leaf=3, total= 1.5min\n",
      "[CV] max_features=4, min_samples_split=8, criterion=gini, n_estimators=10, min_samples_leaf=3 \n",
      "[CV]  max_features=4, min_samples_split=8, criterion=gini, n_estimators=10, min_samples_leaf=3, total= 1.6min\n",
      "[CV] max_features=4, min_samples_split=8, criterion=gini, n_estimators=10, min_samples_leaf=3 \n",
      "[CV]  max_features=4, min_samples_split=8, criterion=gini, n_estimators=10, min_samples_leaf=3, total= 1.6min\n",
      "[CV] max_features=4, min_samples_split=8, criterion=gini, n_estimators=10, min_samples_leaf=3 \n",
      "[CV]  max_features=4, min_samples_split=8, criterion=gini, n_estimators=10, min_samples_leaf=3, total= 1.6min\n",
      "[CV] max_features=4, min_samples_split=8, criterion=gini, n_estimators=10, min_samples_leaf=3 \n",
      "[CV]  max_features=4, min_samples_split=8, criterion=gini, n_estimators=10, min_samples_leaf=3, total= 1.4min\n",
      "[CV] max_features=12, min_samples_split=5, criterion=gini, n_estimators=11, min_samples_leaf=2 \n",
      "[CV]  max_features=4, min_samples_split=8, criterion=gini, n_estimators=10, min_samples_leaf=3, total= 1.4min\n",
      "[CV] max_features=12, min_samples_split=5, criterion=gini, n_estimators=11, min_samples_leaf=2 \n",
      "[CV]  max_features=12, min_samples_split=5, criterion=gini, n_estimators=11, min_samples_leaf=2, total= 2.2min\n",
      "[CV] max_features=12, min_samples_split=5, criterion=gini, n_estimators=11, min_samples_leaf=2 \n",
      "[CV]  max_features=12, min_samples_split=5, criterion=gini, n_estimators=11, min_samples_leaf=2, total= 2.2min\n",
      "[CV] max_features=12, min_samples_split=5, criterion=gini, n_estimators=11, min_samples_leaf=2 \n",
      "[CV]  max_features=12, min_samples_split=5, criterion=gini, n_estimators=11, min_samples_leaf=2, total= 2.0min\n",
      "[CV] max_features=12, min_samples_split=5, criterion=gini, n_estimators=11, min_samples_leaf=2 \n",
      "[CV]  max_features=12, min_samples_split=5, criterion=gini, n_estimators=11, min_samples_leaf=2, total= 2.0min\n",
      "[CV] max_features=12, min_samples_split=5, criterion=gini, n_estimators=11, min_samples_leaf=2 \n",
      "[CV]  max_features=12, min_samples_split=5, criterion=gini, n_estimators=11, min_samples_leaf=2, total= 2.1min\n",
      "[CV] max_features=12, min_samples_split=5, criterion=gini, n_estimators=11, min_samples_leaf=2 \n",
      "[CV]  max_features=12, min_samples_split=5, criterion=gini, n_estimators=11, min_samples_leaf=2, total= 2.1min\n",
      "[CV] max_features=12, min_samples_split=5, criterion=gini, n_estimators=11, min_samples_leaf=2 \n",
      "[CV]  max_features=12, min_samples_split=5, criterion=gini, n_estimators=11, min_samples_leaf=2, total= 2.2min\n",
      "[CV] max_features=12, min_samples_split=7, criterion=entropy, n_estimators=10, min_samples_leaf=4 \n",
      "[CV]  max_features=12, min_samples_split=5, criterion=gini, n_estimators=11, min_samples_leaf=2, total= 2.2min\n",
      "[CV] max_features=12, min_samples_split=7, criterion=entropy, n_estimators=10, min_samples_leaf=4 \n",
      "[CV]  max_features=12, min_samples_split=7, criterion=entropy, n_estimators=10, min_samples_leaf=4, total= 1.9min\n",
      "[CV] max_features=12, min_samples_split=7, criterion=entropy, n_estimators=10, min_samples_leaf=4 \n",
      "[CV]  max_features=12, min_samples_split=7, criterion=entropy, n_estimators=10, min_samples_leaf=4, total= 1.9min\n",
      "[CV] max_features=12, min_samples_split=7, criterion=entropy, n_estimators=10, min_samples_leaf=4 \n",
      "[CV]  max_features=12, min_samples_split=7, criterion=entropy, n_estimators=10, min_samples_leaf=4, total= 1.9min\n",
      "[CV] max_features=12, min_samples_split=7, criterion=entropy, n_estimators=10, min_samples_leaf=4 \n",
      "[CV]  max_features=12, min_samples_split=7, criterion=entropy, n_estimators=10, min_samples_leaf=4, total= 2.0min\n",
      "[CV] max_features=12, min_samples_split=7, criterion=entropy, n_estimators=10, min_samples_leaf=4 \n",
      "[CV]  max_features=12, min_samples_split=7, criterion=entropy, n_estimators=10, min_samples_leaf=4, total= 1.9min\n",
      "[CV] max_features=12, min_samples_split=7, criterion=entropy, n_estimators=10, min_samples_leaf=4 \n",
      "[CV]  max_features=12, min_samples_split=7, criterion=entropy, n_estimators=10, min_samples_leaf=4, total= 1.9min\n",
      "[CV] max_features=12, min_samples_split=7, criterion=entropy, n_estimators=10, min_samples_leaf=4 \n",
      "[CV]  max_features=12, min_samples_split=7, criterion=entropy, n_estimators=10, min_samples_leaf=4, total= 1.8min\n",
      "[CV] max_features=7, min_samples_split=4, criterion=entropy, n_estimators=10, min_samples_leaf=2 \n",
      "[CV]  max_features=12, min_samples_split=7, criterion=entropy, n_estimators=10, min_samples_leaf=4, total= 1.8min\n",
      "[CV] max_features=7, min_samples_split=4, criterion=entropy, n_estimators=10, min_samples_leaf=2 \n",
      "[CV]  max_features=7, min_samples_split=4, criterion=entropy, n_estimators=10, min_samples_leaf=2, total= 1.6min\n",
      "[CV] max_features=7, min_samples_split=4, criterion=entropy, n_estimators=10, min_samples_leaf=2 \n",
      "[CV]  max_features=7, min_samples_split=4, criterion=entropy, n_estimators=10, min_samples_leaf=2, total= 1.6min\n",
      "[CV] max_features=7, min_samples_split=4, criterion=entropy, n_estimators=10, min_samples_leaf=2 \n",
      "[CV]  max_features=7, min_samples_split=4, criterion=entropy, n_estimators=10, min_samples_leaf=2, total= 1.5min\n",
      "[CV] max_features=7, min_samples_split=4, criterion=entropy, n_estimators=10, min_samples_leaf=2 \n",
      "[CV]  max_features=7, min_samples_split=4, criterion=entropy, n_estimators=10, min_samples_leaf=2, total= 1.5min\n",
      "[CV] max_features=7, min_samples_split=4, criterion=entropy, n_estimators=10, min_samples_leaf=2 \n",
      "[CV]  max_features=7, min_samples_split=4, criterion=entropy, n_estimators=10, min_samples_leaf=2, total= 1.9min\n",
      "[CV] max_features=7, min_samples_split=4, criterion=entropy, n_estimators=10, min_samples_leaf=2 \n",
      "[CV]  max_features=7, min_samples_split=4, criterion=entropy, n_estimators=10, min_samples_leaf=2, total= 2.0min\n",
      "[CV] max_features=7, min_samples_split=4, criterion=entropy, n_estimators=10, min_samples_leaf=2 \n",
      "[CV]  max_features=7, min_samples_split=4, criterion=entropy, n_estimators=10, min_samples_leaf=2, total= 2.1min\n",
      "[CV] max_features=6, min_samples_split=5, criterion=entropy, n_estimators=16, min_samples_leaf=3 \n",
      "[CV]  max_features=7, min_samples_split=4, criterion=entropy, n_estimators=10, min_samples_leaf=2, total= 2.1min\n",
      "[CV] max_features=6, min_samples_split=5, criterion=entropy, n_estimators=16, min_samples_leaf=3 \n",
      "[CV]  max_features=6, min_samples_split=5, criterion=entropy, n_estimators=16, min_samples_leaf=3, total= 2.7min\n",
      "[CV] max_features=6, min_samples_split=5, criterion=entropy, n_estimators=16, min_samples_leaf=3 \n",
      "[CV]  max_features=6, min_samples_split=5, criterion=entropy, n_estimators=16, min_samples_leaf=3, total= 2.8min\n",
      "[CV] max_features=6, min_samples_split=5, criterion=entropy, n_estimators=16, min_samples_leaf=3 \n",
      "[CV]  max_features=6, min_samples_split=5, criterion=entropy, n_estimators=16, min_samples_leaf=3, total= 4.2min\n",
      "[CV] max_features=6, min_samples_split=5, criterion=entropy, n_estimators=16, min_samples_leaf=3 \n",
      "[CV]  max_features=6, min_samples_split=5, criterion=entropy, n_estimators=16, min_samples_leaf=3, total= 4.1min\n",
      "[CV] max_features=6, min_samples_split=5, criterion=entropy, n_estimators=16, min_samples_leaf=3 \n",
      "[CV]  max_features=6, min_samples_split=5, criterion=entropy, n_estimators=16, min_samples_leaf=3, total= 3.2min\n"
     ]
    },
    {
     "name": "stderr",
     "output_type": "stream",
     "text": [
      "[Parallel(n_jobs=2)]: Done  37 tasks      | elapsed: 43.5min\n"
     ]
    },
    {
     "name": "stdout",
     "output_type": "stream",
     "text": [
      "[CV] max_features=6, min_samples_split=5, criterion=entropy, n_estimators=16, min_samples_leaf=3 \n",
      "[CV]  max_features=6, min_samples_split=5, criterion=entropy, n_estimators=16, min_samples_leaf=3, total= 3.2min\n",
      "[CV] max_features=6, min_samples_split=5, criterion=entropy, n_estimators=16, min_samples_leaf=3 \n",
      "[CV]  max_features=6, min_samples_split=5, criterion=entropy, n_estimators=16, min_samples_leaf=3, total= 3.0min\n",
      "[CV]  max_features=6, min_samples_split=5, criterion=entropy, n_estimators=16, min_samples_leaf=3, total= 3.1min\n"
     ]
    },
    {
     "name": "stderr",
     "output_type": "stream",
     "text": [
      "[Parallel(n_jobs=2)]: Done  40 out of  40 | elapsed: 46.9min finished\n"
     ]
    },
    {
     "name": "stdout",
     "output_type": "stream",
     "text": [
      "Elapsed time:  2964.98273611 seconds for  5 hyperparameter choices\n"
     ]
    }
   ],
   "source": [
    "# Initialize classifier instance\n",
    "clf = RandomForestClassifier()\n",
    "        \n",
    "# Dictionary containing hyperparameter values.\n",
    "# Keys coincide with RF variable names\n",
    "param_dist = {\"max_features\": sp_randint(int(np.sqrt(X.shape[1]))/2, 2*np.sqrt(X.shape[1])),  \n",
    "             \"min_samples_split\": sp_randint(2, 10),\n",
    "             \"min_samples_leaf\": sp_randint(1, 5),\n",
    "             \"criterion\": [\"gini\", \"entropy\"],\n",
    "             \"n_estimators\": range(int(np.sqrt(X.shape[1])), X.shape[1]/3)} \n",
    "                # run randomized search\n",
    "\n",
    "n_iter_search = 5 # number of parameter choices\n",
    "random_search = RandomizedSearchCV(\n",
    "    clf, \n",
    "    param_distributions=param_dist,\n",
    "    scoring=\"accuracy\",\n",
    "    n_iter=n_iter_search,\n",
    "    cv=8,\n",
    "    n_jobs=2,\n",
    "    verbose=2)\n",
    "\n",
    "\n",
    "# X_train, X_test, y_train, y_test\n",
    "start = time()\n",
    "random_search.fit(X_train, y_train)\n",
    "#print \"RandomizedSearchCV took %.2f seconds for %d candidates\", \" parameter settings.\" % ((time() - start), n_iter_search)\n",
    "print \"Elapsed time: \", (time() - start), \"seconds for \", n_iter_search ,\"hyperparameter choices\""
   ]
  },
  {
   "cell_type": "code",
   "execution_count": 23,
   "metadata": {},
   "outputs": [
    {
     "name": "stdout",
     "output_type": "stream",
     "text": [
      "Model with rank: 1\n",
      "Mean validation score: 0.655 (std: 0.001)\n",
      "Parameters: {'max_features': 12, 'min_samples_split': 7, 'min_samples_leaf': 4, 'criterion': 'entropy', 'n_estimators': 10}\n",
      "\n",
      "Model with rank: 2\n",
      "Mean validation score: 0.654 (std: 0.001)\n",
      "Parameters: {'max_features': 6, 'min_samples_split': 5, 'min_samples_leaf': 3, 'criterion': 'entropy', 'n_estimators': 16}\n",
      "\n",
      "Model with rank: 3\n",
      "Mean validation score: 0.653 (std: 0.002)\n",
      "Parameters: {'max_features': 4, 'min_samples_split': 8, 'min_samples_leaf': 3, 'criterion': 'gini', 'n_estimators': 10}\n",
      "\n"
     ]
    }
   ],
   "source": [
    "print_RSCV_results(random_search.cv_results_, n_top=3)"
   ]
  },
  {
   "cell_type": "markdown",
   "metadata": {
    "collapsed": true
   },
   "source": [
    "### Assessing model metrics for optimal hyperparameters"
   ]
  },
  {
   "cell_type": "markdown",
   "metadata": {},
   "source": [
    "#### Train model"
   ]
  },
  {
   "cell_type": "code",
   "execution_count": 24,
   "metadata": {},
   "outputs": [
    {
     "data": {
      "text/plain": [
       "RandomForestClassifier(bootstrap=True, class_weight=None, criterion='entropy',\n",
       "            max_depth=None, max_features=12, max_leaf_nodes=None,\n",
       "            min_impurity_split=1e-07, min_samples_leaf=4,\n",
       "            min_samples_split=7, min_weight_fraction_leaf=0.0,\n",
       "            n_estimators=30, n_jobs=2, oob_score=False, random_state=None,\n",
       "            verbose=0, warm_start=False)"
      ]
     },
     "execution_count": 24,
     "metadata": {},
     "output_type": "execute_result"
    }
   ],
   "source": [
    "# Retrain model with optimal parameters on all of the train data.\n",
    "from sklearn.ensemble import RandomForestClassifier\n",
    "\n",
    "\n",
    "# Optimal parameter values\n",
    "optparams = random_search.cv_results_['params'][np.argmin(random_search.cv_results_['rank_test_score'])]\n",
    "\n",
    "\n",
    "clf = RandomForestClassifier(n_jobs=2, n_estimators=30,\n",
    "    min_samples_leaf  = optparams['min_samples_leaf'],\n",
    "    min_samples_split = optparams['min_samples_split'], \n",
    "    criterion         = optparams['criterion'], \n",
    "    max_features      = optparams['max_features']\n",
    "    ) #, random_state=0)\n",
    "\n",
    "\n",
    "clf.fit(X_train, y_train)"
   ]
  },
  {
   "cell_type": "markdown",
   "metadata": {},
   "source": [
    "#### Compute metrics for model on test data"
   ]
  },
  {
   "cell_type": "code",
   "execution_count": 25,
   "metadata": {},
   "outputs": [
    {
     "name": "stdout",
     "output_type": "stream",
     "text": [
      "  accuracy:   0.656925424847\n",
      "  precision:  0.650327392499\n",
      "  recall:     0.677988906131\n",
      "  AUC:        0.7062850416\n"
     ]
    }
   ],
   "source": [
    "from sklearn.metrics import accuracy_score, precision_score, recall_score\n",
    "from sklearn.metrics import roc_auc_score\n",
    "\n",
    "y_pred = clf.predict(X_test)\n",
    "\n",
    "apr = [\n",
    "    accuracy_score(y_test, y_pred), \n",
    "    precision_score(y_test, y_pred), \n",
    "    recall_score(y_test, y_pred)]  \n",
    "\n",
    "\n",
    "print \"  accuracy:  \", apr[0] # can also be computed with clf.score(X_test, y_test)\n",
    "print \"  precision: \", apr[1]\n",
    "print \"  recall:    \", apr[2]\n",
    "\n",
    "# ROC (receiver operating characteristic) AUC (area under the curve) is insensitive of unbalanced classes\n",
    "auc = roc_auc_score(y_test, clf.predict_proba(X_test)[:, 1])\n",
    "print \"  AUC:       \", auc"
   ]
  },
  {
   "cell_type": "code",
   "execution_count": 26,
   "metadata": {},
   "outputs": [
    {
     "data": {
      "text/plain": [
       "<matplotlib.text.Text at 0x1427b9dd0>"
      ]
     },
     "execution_count": 26,
     "metadata": {},
     "output_type": "execute_result"
    },
    {
     "data": {
      "image/png": "[encoded data removed]",
      "text/plain": [
       "<matplotlib.figure.Figure at 0x14279a050>"
      ]
     },
     "metadata": {},
     "output_type": "display_data"
    }
   ],
   "source": [
    "# Probabilities of positive class\n",
    "pred_prob = clf.predict_proba(X_test)[:,1]\n",
    "height, edges, patches = plt.hist(pred_prob, bins='auto', normed='true')\n",
    "\n",
    "fs = 18\n",
    "\n",
    "plt.xlabel('predicted probability', fontsize=fs)\n",
    "plt.ylabel('mass', fontsize=fs)"
   ]
  },
  {
   "cell_type": "code",
   "execution_count": 28,
   "metadata": {},
   "outputs": [
    {
     "name": "stdout",
     "output_type": "stream",
     "text": [
      "Integrated probability up to decision threshold =  0.474290546115\n"
     ]
    }
   ],
   "source": [
    "# What's the integral of the probability density of p_1 at \n",
    "# the decision threshold of 0.5?\n",
    "prob_int = (edges[1:] - edges[:-1])*height\n",
    "prob_int = sum(prob_int[0:len(prob_int)/2])\n",
    "print \"Integrated probability up to decision threshold = \", prob_int"
   ]
  },
  {
   "cell_type": "code",
   "execution_count": 29,
   "metadata": {},
   "outputs": [
    {
     "data": {
      "image/png": "[encoded data removed]",
      "text/plain": [
       "<matplotlib.figure.Figure at 0x1428c3110>"
      ]
     },
     "metadata": {},
     "output_type": "display_data"
    }
   ],
   "source": [
    "# ROC curve\n",
    "from sklearn import metrics\n",
    "fpr, tpr, thresholds = metrics.roc_curve(y_test, pred_prob)#, pos_label=2)\n",
    "\n",
    "# \n",
    "lw = 2\n",
    "fs = 18\n",
    "plt.plot(fpr, tpr)#, label='RT + LR')\n",
    "plt.plot([0, 1], [0, 1], 'k--', lw=lw)\n",
    "plt.xlabel('false positive rate', fontsize=fs )\n",
    "plt.ylabel('true positive rate', fontsize=fs )\n",
    "#plt.title('receiver operating characteristic')\n",
    "plt.xlim(0,1)\n",
    "plt.ylim(0,1)\n",
    "plt.savefig('usa1996-2015_roc_curve.png',  bbox_inches='tight')"
   ]
  },
  {
   "cell_type": "code",
   "execution_count": 30,
   "metadata": {
    "collapsed": true
   },
   "outputs": [],
   "source": [
    "# Compute feature importance\n",
    "feat_imp = clf.feature_importances_\n",
    "num_feat = len(feat_imp)\n",
    "\n",
    "# Sort in ascending order\n",
    "index_sorted = np.flip(np.argsort(feat_imp), 0)\n",
    "feat_imp = feat_imp[index_sorted]\n",
    "feature_labels = X_test.columns[index_sorted]"
   ]
  },
  {
   "cell_type": "code",
   "execution_count": 31,
   "metadata": {},
   "outputs": [
    {
     "data": {
      "image/png": "[encoded data removed]",
      "text/plain": [
       "<matplotlib.figure.Figure at 0x142878990>"
      ]
     },
     "metadata": {},
     "output_type": "display_data"
    }
   ],
   "source": [
    "# Plot feature importance\n",
    "\n",
    "fs=18\n",
    "\n",
    "Nbars= 10# np.shape(clf.feature_importances_)[0]\n",
    "\n",
    "fig, ax = plt.subplots()\n",
    "\n",
    "\n",
    "ax.barh(np.arange(0,Nbars), feat_imp[0:Nbars])\n",
    "ax.set_yticks(np.arange(0,Nbars))\n",
    "\n",
    "ax.set_yticklabels(feature_labels, fontsize=fs-3) #, rotation='vertical')\n",
    "\n",
    "ax.set_xlabel('feature importance', fontsize=fs)\n",
    "#ax.set_title('Feature', fontsize=fs)\n",
    "plt.savefig('feature_importance_all.png',  bbox_inches='tight', dpi=500)"
   ]
  },
  {
   "cell_type": "code",
   "execution_count": 32,
   "metadata": {
    "collapsed": true
   },
   "outputs": [],
   "source": [
    "# Aggregate features by type\n",
    "imp = np.zeros(5)\n",
    "lbls = [\n",
    "    'number of workers', \n",
    "    'ind. sector', \n",
    "    'ownership type', \n",
    "    'US state',\n",
    "    'union affiliation']\n",
    "\n",
    "for i in range(0,np.shape(feat_imp)[0]):\n",
    "    \n",
    "    lbl=feature_labels.values[i] # These are already sorted\n",
    "    \n",
    "    if   lbl[0:3] == 'nr_':\n",
    "        imp[0] += feat_imp[i]\n",
    "    elif lbl[0:3] == 'sic':\n",
    "        imp[1] += feat_imp[i]\n",
    "    elif lbl[0:3] == 'own':\n",
    "        imp[2] += feat_imp[i]\n",
    "    elif lbl[0:3] == 'sit':\n",
    "        imp[3] += feat_imp[i]\n",
    "    elif lbl[0:3] == 'uni':\n",
    "        imp[4] += feat_imp[i]\n",
    "\n",
    "\n",
    "# Sort in ascending order\n",
    "agg_index_sorted = np.flip(np.argsort(imp), 0)\n",
    "agg_feat_imp = imp[agg_index_sorted]"
   ]
  },
  {
   "cell_type": "code",
   "execution_count": 33,
   "metadata": {
    "scrolled": true
   },
   "outputs": [
    {
     "data": {
      "image/png": "[encoded data removed]",
      "text/plain": [
       "<matplotlib.figure.Figure at 0x1406d4d90>"
      ]
     },
     "metadata": {},
     "output_type": "display_data"
    }
   ],
   "source": [
    "# Plot aggregated feature importance\n",
    "\n",
    "fs=18\n",
    "\n",
    "Nbars= len(imp)\n",
    "\n",
    "fig, ax = plt.subplots()\n",
    "\n",
    "\n",
    "ax.barh(np.arange(0,Nbars), imp[agg_index_sorted])\n",
    "ax.set_yticks(np.arange(0,Nbars))\n",
    "\n",
    "my_labels = ['number of workers', \n",
    "             'industry sector',\n",
    "             'ownership (private vs. public)', \n",
    "             'US state', \n",
    "             'union affiliation']\n",
    "\n",
    "ax.set_yticklabels(np.array(my_labels)[agg_index_sorted], fontsize=fs-3) #, rotation='vertical')\n",
    "\n",
    "\n",
    "\n",
    "ax.set_xlabel('feature importance', fontsize=fs)\n",
    "plt.savefig('feature_importance_grouped.png',  bbox_inches='tight', dpi=500)"
   ]
  },
  {
   "cell_type": "markdown",
   "metadata": {},
   "source": [
    "#### Convergence of K-L divergence of p(p(1))\n",
    "One hyperparameter that was not optimized was the number of estimators. We chose the value n_estimators=30. Is the model converged at that value or will we need more estimators?"
   ]
  },
  {
   "cell_type": "code",
   "execution_count": 34,
   "metadata": {},
   "outputs": [
    {
     "data": {
      "text/plain": [
       "<matplotlib.legend.Legend at 0x1425e0590>"
      ]
     },
     "execution_count": 34,
     "metadata": {},
     "output_type": "execute_result"
    },
    {
     "data": {
      "image/png": "[encoded data removed]",
      "text/plain": [
       "<matplotlib.figure.Figure at 0x140328410>"
      ]
     },
     "metadata": {},
     "output_type": "display_data"
    }
   ],
   "source": [
    "# Train and compute probabilities\n",
    "\n",
    "Nbins = 50 # Bins for histograms\n",
    "n_est = [5, 10, 20, 30, 40, 50, 100]\n",
    "\n",
    "hbins=[]\n",
    "for n in n_est:\n",
    "    \n",
    "    clf_KL = RandomForestClassifier(n_jobs=2, n_estimators = n, \n",
    "        min_samples_leaf  = optparams['min_samples_leaf'],\n",
    "        min_samples_split = optparams['min_samples_split'], \n",
    "        criterion         = optparams['criterion'], \n",
    "        max_features      = optparams['max_features'], \n",
    "        )\n",
    "\n",
    "    clf_KL.fit(X_train, y_train)\n",
    "    \n",
    "    \n",
    "    pred_prob = clf_KL.predict_proba(X_test)[:,1]\n",
    "    h, e, p = plt.hist(\n",
    "        pred_prob, \n",
    "        bins=Nbins, \n",
    "        range=(0.0,1.0), \n",
    "        normed='true',\n",
    "        label=str(n)+ ' estimators')\n",
    "\n",
    "    \n",
    "    hbins.append(h)\n",
    "\n",
    "plt.xlabel('positive class probability', fontsize=fs)\n",
    "plt.ylabel('probability mass', fontsize=fs)\n",
    "plt.legend()\n",
    "#plt.savefig('./p1dist_nestimators.png')"
   ]
  },
  {
   "cell_type": "code",
   "execution_count": 35,
   "metadata": {
    "collapsed": true
   },
   "outputs": [],
   "source": [
    "# Kullbeck-Leibler divergence\n",
    "def KL_div(p1, p2, threshold = 1.0E-07):\n",
    "    '''\n",
    "    Kullbeck-Leibler divervgence of distribution\n",
    "    p1 to p2.\n",
    "    '''\n",
    "    p1 = np.asarray(p1, dtype=np.float)\n",
    "    p2 = np.asarray(p2, dtype=np.float)\n",
    "    \n",
    "        \n",
    "    # If there are zeros, remove.\n",
    "    # Remove first zeros from p1\n",
    "    p2 = np.extract(p1 > threshold, p2)\n",
    "    p1 = np.extract(p1 > threshold, p1)\n",
    "    \n",
    "    # Now remove zeros from p2\n",
    "    p1 = np.extract(p2 > threshold, p1)\n",
    "    p2 = np.extract(p2 > threshold, p2)\n",
    "        \n",
    "    return np.sum(p1 * np.log(p1 / p2))\n",
    "    "
   ]
  },
  {
   "cell_type": "code",
   "execution_count": 36,
   "metadata": {
    "collapsed": true
   },
   "outputs": [],
   "source": [
    "# From probabilities, compute KL divergences\n",
    "# to the baseline (larger n_estiamators model)\n",
    "KLs=np.zeros(len(hbins)-1)\n",
    "\n",
    "for i in range(0,len(hbins)-1):\n",
    "    p = hbins[i]\n",
    "    q = hbins[len(hbins)-1]\n",
    "    KLs[i] = KL_div(p,q)\n",
    "    "
   ]
  },
  {
   "cell_type": "code",
   "execution_count": 37,
   "metadata": {},
   "outputs": [
    {
     "data": {
      "image/png": "[encoded data removed]",
      "text/plain": [
       "<matplotlib.figure.Figure at 0x1414c7250>"
      ]
     },
     "metadata": {},
     "output_type": "display_data"
    }
   ],
   "source": [
    "# Plot KL divergences\n",
    "fs=18\n",
    "\n",
    "plt.plot(n_est[0:len(hbins)-1], KLs, '-')\n",
    "plt.plot(n_est[0:len(hbins)-1], KLs, 'o', color='k', markersize=6)\n",
    "plt.xlabel('number of estimators', fontsize=fs)\n",
    "plt.ylabel('KL divergence', fontsize=fs)\n",
    "plt.savefig('./KLdivergence_Nestimators.png',  bbox_inches='tight', dpi=500)"
   ]
  },
  {
   "cell_type": "markdown",
   "metadata": {},
   "source": [
    "*We observe that at n_estimators=30 the probability distribution relative to the baseline is well converged.*"
   ]
  },
  {
   "cell_type": "markdown",
   "metadata": {},
   "source": [
    "*Let us measure now the convergence of the model with respect to the number of data points in the set by means of a learning curve*"
   ]
  },
  {
   "cell_type": "code",
   "execution_count": 49,
   "metadata": {},
   "outputs": [
    {
     "data": {
      "image/png": "[encoded data removed]",
      "text/plain": [
       "<matplotlib.figure.Figure at 0x141fd9290>"
      ]
     },
     "metadata": {},
     "output_type": "display_data"
    }
   ],
   "source": [
    "# Is the model well converged relative to the number of data points?\n",
    "# Let's generate the learning curve. Code adapted from sklearn's documentation:\n",
    "# http://scikit-learn.org/stable/auto_examples/model_selection/plot_learning_curve.html#sphx-glr-auto-examples-model-selection-plot-learning-curve-py\n",
    "import time\n",
    "from sklearn.model_selection import learning_curve\n",
    "from sklearn.model_selection import ShuffleSplit\n",
    "\n",
    "\n",
    "def plot_learning_curve(estimator, title, X, y, ylim=None, cv=None,\n",
    "                        train_sizes=np.linspace(.1, 1.0, 5), scorer='accuracy', n_jobs=1, fontsize=15):\n",
    "    \"\"\"\n",
    "    Generate a simple plot of the test and training learning curve.\n",
    "\n",
    "    Parameters\n",
    "    ----------\n",
    "    estimator : object type that implements the \"fit\" and \"predict\" methods\n",
    "        An object of that type which is cloned for each validation.\n",
    "\n",
    "    title : string\n",
    "        Title for the chart.\n",
    "\n",
    "    X : array-like, shape (n_samples, n_features)\n",
    "        Training vector, where n_samples is the number of samples and\n",
    "        n_features is the number of features.\n",
    "\n",
    "    y : array-like, shape (n_samples) or (n_samples, n_features), optional\n",
    "        Target relative to X for classification or regression;\n",
    "        None for unsupervised learning.\n",
    "\n",
    "    ylim : tuple, shape (ymin, ymax), optional\n",
    "        Defines minimum and maximum yvalues plotted.\n",
    "\n",
    "    cv : int, cross-validation generator or an iterable, optional\n",
    "        Determines the cross-validation splitting strategy.\n",
    "        Possible inputs for cv are:\n",
    "          - None, to use the default 3-fold cross-validation,\n",
    "          - integer, to specify the number of folds.\n",
    "          - An object to be used as a cross-validation generator.\n",
    "          - An iterable yielding train/test splits.\n",
    "\n",
    "        For integer/None inputs, if ``y`` is binary or multiclass,\n",
    "        :class:`StratifiedKFold` used. If the estimator is not a classifier\n",
    "        or if ``y`` is neither binary nor multiclass, :class:`KFold` is used.\n",
    "\n",
    "        Refer :ref:`User Guide <cross_validation>` for the various\n",
    "        cross-validators that can be used here.\n",
    "        \n",
    "    scoring : sklearn's scorer object label, optional\n",
    "        Scoring metric for learning curve (default 'accuracy')\n",
    "    \n",
    "    n_jobs : integer, optional\n",
    "        Number of jobs to run in parallel (default 1).\n",
    "    \n",
    "    fontsize: size of font for title. Axis labels and legend have a size of 3 units less.\n",
    "    \n",
    "    \n",
    "    \"\"\"\n",
    "    plt.figure()\n",
    "    plt.title(title, fontsize=fontsize)\n",
    "    if ylim is not None:\n",
    "        plt.ylim(*ylim)\n",
    "    plt.xlabel(\"Training set size\", fontsize=fontsize-3)\n",
    "    plt.ylabel(scorer, fontsize=fontsize-3)\n",
    "    train_sizes, train_scores, test_scores = learning_curve(\n",
    "        estimator, X, y, cv=cv, n_jobs=n_jobs, train_sizes=train_sizes, scoring=scorer)\n",
    "    train_scores_mean = np.mean(train_scores, axis=1)\n",
    "    train_scores_std = np.std(train_scores, axis=1)\n",
    "    test_scores_mean = np.mean(test_scores, axis=1)\n",
    "    test_scores_std = np.std(test_scores, axis=1)\n",
    "    plt.grid()\n",
    "\n",
    "    plt.fill_between(train_sizes, train_scores_mean - train_scores_std,\n",
    "                     train_scores_mean + train_scores_std, alpha=0.1,\n",
    "                     color=\"r\")\n",
    "    plt.fill_between(train_sizes, test_scores_mean - test_scores_std,\n",
    "                     test_scores_mean + test_scores_std, alpha=0.1, color=\"b\")\n",
    "    plt.plot(train_sizes, train_scores_mean, 'o-', color=\"r\",\n",
    "             label=\"Training score\")\n",
    "    plt.plot(train_sizes, test_scores_mean, 'o-', color=\"b\",\n",
    "             label=\"Cross-validation score\")\n",
    "\n",
    "    plt.legend(loc=\"best\", fontsize=fontsize-3)\n",
    "    return plt\n",
    "\n",
    "\n",
    "\n",
    "title = \"Learning Curves for Random Forest\"\n",
    "# Cross validation with 25 iterations to get smoother mean test and train\n",
    "# score curves, each time with 20% data randomly selected as a validation set.\n",
    "cv = ShuffleSplit(n_splits=10, test_size=0.20, random_state=int(time.time()))\n",
    "\n",
    "# Choose training sizes\n",
    "ts = (0.001, 0.025, 0.1, 0.2, 0.4, 0.6, 0.8)\n",
    "\n",
    "plot_learning_curve(clf, title, X, Y, cv=cv, train_sizes=ts , n_jobs=2, fontsize=16)\n",
    "plt.savefig('./learning_curve.png', bbox_inches='tight', dpi=500);"
   ]
  },
  {
   "cell_type": "code",
   "execution_count": 51,
   "metadata": {},
   "outputs": [],
   "source": [
    "# Refit with all the data and save the model to disk \n",
    "import pickle\n",
    "\n",
    "clf.fit(X,Y)\n",
    "filename = './trained_RF.sav'\n",
    "pickle.dump(clf, open(filename, 'wb'))"
   ]
  },
  {
   "cell_type": "code",
   "execution_count": 52,
   "metadata": {
    "collapsed": true
   },
   "outputs": [],
   "source": [
    "# Create an empty dataframe with only one \n",
    "# row for website. Save then as CSV\n",
    "empty_df = pd.DataFrame(0, index=np.arange(0,1), columns=XY.columns.values)\n",
    "empty_df = empty_df.drop('is_violation', axis=1)\n",
    "empty_df.to_csv('./empty_df_all_features.csv')"
   ]
  }
 ],
 "metadata": {
  "anaconda-cloud": {},
  "kernelspec": {
   "display_name": "Python 2",
   "language": "python",
   "name": "python2"
  },
  "language_info": {
   "codemirror_mode": {
    "name": "ipython",
    "version": 2
   },
   "file_extension": ".py",
   "mimetype": "text/x-python",
   "name": "python",
   "nbconvert_exporter": "python",
   "pygments_lexer": "ipython2",
   "version": "2.7.13"
  }
 },
 "nbformat": 4,
 "nbformat_minor": 1
}
