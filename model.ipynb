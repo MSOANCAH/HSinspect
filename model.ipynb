{
 "cells": [
  {
   "cell_type": "markdown",
   "metadata": {},
   "source": [
    "# Predictive model for health and safety inspections.\n",
    "\n",
    "# Training and testing\n",
    "\n",
    "## Note: remember to start postgresql server!"
   ]
  },
  {
   "cell_type": "code",
   "execution_count": 1,
   "metadata": {
    "collapsed": true
   },
   "outputs": [],
   "source": [
    "## Python packages\n",
    "import random\n",
    "import time\n",
    "from sqlalchemy import create_engine\n",
    "from sqlalchemy_utils import database_exists, create_database\n",
    "import psycopg2\n",
    "import pandas as pd\n",
    "\n",
    "import numpy as np\n",
    "import matplotlib.pyplot as plt\n",
    "%matplotlib inline\n",
    "\n",
    "from class_imb import downsample\n",
    "from osha import sic_division, fopi"
   ]
  },
  {
   "cell_type": "code",
   "execution_count": 2,
   "metadata": {
    "collapsed": true
   },
   "outputs": [],
   "source": [
    "# Database name and username\n",
    "dbname = 'osha_db'\n",
    "username = 'asc'\n",
    "\n",
    "# Connection to SQL database\n",
    "conn = None\n",
    "conn = psycopg2.connect(database = dbname, user = username)"
   ]
  },
  {
   "cell_type": "markdown",
   "metadata": {
    "collapsed": true
   },
   "source": [
    "# Selecting potentially useful data for analysis"
   ]
  },
  {
   "cell_type": "code",
   "execution_count": null,
   "metadata": {
    "collapsed": true
   },
   "outputs": [],
   "source": [
    "# \n",
    "usa_all_query = '''\n",
    "SELECT * FROM inspections_table;\n",
    "'''\n",
    "\n",
    "#\n",
    "usa_4plus1_query = '''\n",
    "SELECT \n",
    "owner_type, nr_in_estab, union_status, sic_code, is_violation\n",
    "FROM inspections_table;\n",
    "'''\n",
    "\n",
    "#\n",
    "usa_6plus1_query = '''\n",
    "SELECT \n",
    "open_date, owner_type, nr_in_estab, union_status, sic_code, site_state, is_violation\n",
    "FROM inspections_table;\n",
    "'''\n",
    "\n",
    "#\n",
    "nyc_all_query = sql_query = '''\n",
    "SELECT * FROM inspections_table\n",
    "WHERE site_city='New York' OR site_city='NEW YORK' OR site_city='new york' \n",
    "OR site_city='NEW YORK CITY' OR site_city='New York City' OR site_city='new york city'\n",
    "OR site_city='Brooklyn' OR site_city='BROOKLYN' OR site_city='brooklyn' \n",
    "OR site_city='BRONX' OR site_city='Bronx' OR site_city='bronx'\n",
    "OR site_city='STATEN ISLAND' OR site_city='Staten Island' OR site_city='staten island'\n",
    "OR site_city='QUEENS' OR site_city='Queens' OR site_city='queens'\n",
    "OR site_city='ASTORIA' OR site_city='Astoria' OR site_city='astoria'\n",
    "OR site_city='LONG ISLAND CITY' OR site_city='Long Island City' OR site_city='long island city'\n",
    "OR site_city='SUNNYSIDE' OR site_city='Sunnyside' OR site_city='sunnyside'\n",
    "OR site_city='BAYSIDE' OR site_city='Bayside' OR site_city='bayside'\n",
    "OR site_city='BELLEROSE' OR site_city='Bellerose' OR site_city='bellerose' \n",
    "OR site_city='COLLEGE POINT' OR site_city='College Point' OR site_city='college point'\n",
    "OR site_city='DOUGLASTON' OR site_city='Douglaston' OR site_city='douglaston'\n",
    "OR site_city='FLUSHING' OR site_city='Flushing' OR site_city='flushing'\n",
    "OR site_city='POMONOK' OR site_city='Pomonok' OR site_city='pomonok'\n",
    "OR site_city='FLORAL PARK' OR site_city='Floral Park' OR site_city='floral park'\n",
    "OR site_city='FRESH MEADOWS' OR site_city='Fresh Meadows' OR site_city='fresh meadows'\n",
    "OR site_city='FORT TOTTEN' OR site_city='Fort Totten' OR site_city='fort totten'\n",
    "OR site_city='GLEN OAKS' OR site_city='Glen Oaks' OR site_city='glen oaks'\n",
    "OR site_city='LITTLE NECK' OR site_city='Little Neck' OR site_city='little neck'\n",
    "OR site_city='WHITESTONE' OR site_city='Whitestone' OR site_city='whitestone'\n",
    "OR site_city='CORONA' OR site_city='Corona' OR site_city='corona'\n",
    "OR site_city='EAST ELMHURST' OR site_city='East Elmhurst' OR site_city='east elmhurst'\n",
    "OR site_city='FOREST HILLS' OR site_city='Forest Hills' OR site_city='forest hills'\n",
    "OR site_city='FRESH POND' OR site_city='Fresh Pond' OR site_city='fresh pond'\n",
    "OR site_city='GLENDALE' OR site_city='Glendale' OR site_city='glendale'\n",
    "OR site_city='JACKSON HEIGHTS' OR site_city='Jackson Heights' OR site_city='jackson heights'\n",
    "OR site_city='KEW GARDENS' OR site_city='Kew Gardens' OR site_city='kew gardens'\n",
    "OR site_city='MASPETH' OR site_city='Maspeth' OR site_city='maspeth'\n",
    "OR site_city='MIDDLE VILLAGE' OR site_city='Middle Village' OR site_city='middle village'\n",
    "OR site_city='REGO PARK' OR site_city='Rego Park' OR site_city='rego park'\n",
    "OR site_city='RIDGEWOOD' OR site_city='Ridgewood' OR site_city='ridgewood'\n",
    "OR site_city='WOODSIDE' OR site_city='Woodside' OR site_city='woodside'\n",
    "OR site_city='BELLAIRE' OR site_city='Bellaire' OR site_city='bellaire'\n",
    "OR site_city='BROOKVILLE' OR site_city='Brookville' OR site_city='brookville'\n",
    "OR site_city='CAMBRIA HEIGHTS' OR site_city='Cambria Heights' OR site_city='cambria heights'\n",
    "OR site_city='HOLLIS HILLS' OR site_city='Hollis Hills' OR site_city='hollis hills' \n",
    "OR site_city='HOLLIS' OR site_city='Hollis' OR site_city='hollis'\n",
    "OR site_city='JAMAICA' OR site_city='Jamaica' OR site_city='jamaica'\n",
    "OR site_city='LAURELTON' OR site_city='Laurelton' OR site_city='laurelton'\n",
    "OR site_city='MEADOWMERE' OR site_city='Meadowmere' OR site_city='meadowmere'\n",
    "OR site_city='QUEENS VILLAGE' OR site_city='Queens Village' OR site_city='queens village'\n",
    "OR site_city='ROCHDALE VILLAGE' OR site_city='Rochdale Village' OR site_city='rochdale village'\n",
    "OR site_city='ROSEDALE' OR site_city='Rosedale' OR site_city='rosedale'\n",
    "OR site_city='SAINT ALBANS' OR site_city='Saint Albans' OR site_city='saint albans'\n",
    "OR site_city='SOUTH JAMAICA' OR site_city='South Jamaica' OR site_city='south jamaica'\n",
    "OR site_city='SPRINGDIELD GARDENS' OR site_city='Springfield Gardens' OR site_city='springfield gardens'\n",
    "OR site_city='WARNERVILLE' OR site_city='Warnerville' OR site_city='warnerville'\n",
    "OR site_city='THE HOLE' OR site_city='The Hole' OR site_city='the hole'\n",
    "OR site_city='HOWARD BEACH' OR site_city='Howard Beach' OR site_city='howard beach'\n",
    "OR site_city='OZONE PARK' OR site_city='Ozone Park' OR site_city='ozone park'\n",
    "OR site_city='RICHMOND HILL' OR site_city='Richmond Hill' OR site_city='richmond hill'\n",
    "OR site_city='WOODHAVEN' OR site_city='Woodhaven' OR site_city='woodhaven'\n",
    "OR site_city='ARVERNE' OR site_city='Arverne' OR site_city='arverne'\n",
    "OR site_city='BAYSWATER' OR site_city='Bayswater' OR site_city='bayswater'\n",
    "OR site_city='BELLE HARBOR' OR site_city='Belle Harbor' OR site_city='belle harbor'\n",
    "OR site_city='BREEZY POINT' OR site_city='Breezy Point' OR site_city='breezy point'\n",
    "OR site_city='BROAD CHANNEL' OR site_city='Broad Channel' OR site_city='broad channel'\n",
    "OR site_city='EDGEMERE' OR site_city='Edgemere' OR site_city='edgemere'\n",
    "OR site_city='FAR ROCKAWAY' OR site_city='Far Rockaway' OR site_city='far rockaway'\n",
    "OR site_city='HAMMELS' OR site_city='Hammels' OR site_city='hammels'\n",
    "OR site_city='NEPONSIT' OR site_city='Neponsit' OR site_city='neponsit'\n",
    "OR site_city='ROCKAWAY' OR site_city='Rockaway' OR site_city='rockaway'\n",
    "OR site_city='ROCKAWAY BEACH' OR site_city='Rockaway Beach' OR site_city='rockaway beach'\n",
    "OR site_city='ROCKAWAY PARK' OR site_city='Rockaway Park' OR site_city='rockaway park'\n",
    "OR site_city='ROXBURY' OR site_city='Roxbury' OR site_city='roxbury'\n",
    "OR site_city='SEASIDE' OR site_city='Seaside' OR site_city='seaside'\n",
    "AND site_state='NY';\n",
    "'''\n",
    "\n",
    "# \n",
    "vegas_4plus1_query = '''\n",
    "SELECT owner_type, nr_in_estab, union_status, sic_code, is_violation \n",
    "FROM inspections_table\n",
    "WHERE site_city='Las Vegas' OR site_city='LAS VEGAS' OR site_city='las vegas' \n",
    "AND site_state='NV';\n",
    "'''\n",
    "\n",
    "# \n",
    "forthoursands_4plus1_query = '''\n",
    "SELECT owner_type, nr_in_estab, union_status, adv_notice, is_violation\n",
    "FROM inspections_table\n",
    "WHERE sic_code>=4000 AND sic_code<=4999;\n",
    "'''"
   ]
  },
  {
   "cell_type": "code",
   "execution_count": null,
   "metadata": {
    "collapsed": true
   },
   "outputs": [],
   "source": []
  },
  {
   "cell_type": "code",
   "execution_count": 3,
   "metadata": {
    "collapsed": true
   },
   "outputs": [],
   "source": [
    "#\n",
    "usa_6plus1_query = '''\n",
    "SELECT \n",
    "open_date, owner_type, nr_in_estab, union_status, sic_code, site_state, is_violation\n",
    "FROM inspections_table;\n",
    "'''"
   ]
  },
  {
   "cell_type": "code",
   "execution_count": 4,
   "metadata": {
    "collapsed": true
   },
   "outputs": [],
   "source": [
    "# Query from database\n",
    "\n",
    "sql_query = usa_6plus1_query\n",
    "\n",
    "my_data = pd.read_sql_query(sql_query, conn)\n",
    "#my_data.columns"
   ]
  },
  {
   "cell_type": "code",
   "execution_count": 5,
   "metadata": {},
   "outputs": [
    {
     "name": "stdout",
     "output_type": "stream",
     "text": [
      "Violation fraction over entire dataset: 0.255160867857\n"
     ]
    }
   ],
   "source": [
    "from osha import fopi\n",
    "print \"Violation fraction over entire dataset:\", fopi(my_data, 'is_violation')"
   ]
  },
  {
   "cell_type": "markdown",
   "metadata": {
    "collapsed": true
   },
   "source": [
    "# Data transformations"
   ]
  },
  {
   "cell_type": "code",
   "execution_count": 6,
   "metadata": {
    "collapsed": true
   },
   "outputs": [],
   "source": [
    "# Missing values\n",
    "\n",
    "# Fill NaN with zeroes or drop in number of employees\n",
    "\n",
    "method=\"drop\" #\"fill\"\n",
    "\n",
    "if(method==\"fill\"):\n",
    "    my_data['nr_in_estab'].fillna(0, inplace=True)\n",
    "elif(method==\"drop\"):\n",
    "    my_data.dropna(axis=0, inplace=True)\n",
    "elif(method==\"median\"):\n",
    "    my_data['nr_in_estab'].fillna(my_data['nr_in_estab'].median(), inplace=True)"
   ]
  },
  {
   "cell_type": "code",
   "execution_count": 7,
   "metadata": {},
   "outputs": [
    {
     "name": "stdout",
     "output_type": "stream",
     "text": [
      "Violation fraction over entire dataset: 0.291847348591\n"
     ]
    }
   ],
   "source": [
    "print \"Violation fraction over entire dataset:\", fopi(my_data, 'is_violation')"
   ]
  },
  {
   "cell_type": "code",
   "execution_count": 8,
   "metadata": {
    "collapsed": true
   },
   "outputs": [],
   "source": [
    "# Aggregate SIC numbers by division\n",
    "from osha import sic_division\n",
    "my_data['sic_code'] = my_data['sic_code'].apply(sic_division)"
   ]
  },
  {
   "cell_type": "code",
   "execution_count": 9,
   "metadata": {
    "collapsed": true
   },
   "outputs": [],
   "source": [
    "# Select data from 1996-2015\n",
    "\n",
    "start_date = '1996-1-1'\n",
    "end_date   = '2016-1-1'\n",
    "\n",
    "# Dataframe must be Series with dtype datetime64[ns]\n",
    "my_data['open_date'] = pd.to_datetime(my_data['open_date'])  \n",
    "mask = (my_data['open_date'] > start_date) & (my_data['open_date'] <= end_date)\n",
    "my_data = my_data.loc[mask]"
   ]
  },
  {
   "cell_type": "code",
   "execution_count": 10,
   "metadata": {},
   "outputs": [
    {
     "name": "stdout",
     "output_type": "stream",
     "text": [
      "Violation fraction for years 1996-2015: 0.353422242022\n"
     ]
    }
   ],
   "source": [
    "print \"Violation fraction for years 1996-2015:\", fopi(my_data, 'is_violation')"
   ]
  },
  {
   "cell_type": "code",
   "execution_count": 11,
   "metadata": {
    "collapsed": true
   },
   "outputs": [],
   "source": [
    "# Now discard date column\n",
    "XY = my_data.drop('open_date', axis=1)"
   ]
  },
  {
   "cell_type": "code",
   "execution_count": 12,
   "metadata": {
    "collapsed": true
   },
   "outputs": [],
   "source": [
    "# Create dummies for all categorical variables\n",
    "XY = pd.get_dummies(XY, columns=[\n",
    "    'sic_code', \n",
    "    'owner_type', \n",
    "    'union_status',\n",
    "    'site_state',\n",
    "    ])"
   ]
  },
  {
   "cell_type": "code",
   "execution_count": 13,
   "metadata": {},
   "outputs": [],
   "source": [
    "# Downsample imbalanced data\n",
    "from class_imb import downsample\n",
    "XY = downsample(XY, 'is_violation')"
   ]
  },
  {
   "cell_type": "code",
   "execution_count": 16,
   "metadata": {},
   "outputs": [
    {
     "name": "stdout",
     "output_type": "stream",
     "text": [
      "Violation fraction after downsampling: 0.5\n"
     ]
    }
   ],
   "source": [
    "print \"Violation fraction after downsampling:\", fopi(XY, 'is_violation')"
   ]
  },
  {
   "cell_type": "markdown",
   "metadata": {},
   "source": [
    "### Split into train and test sets for later use"
   ]
  },
  {
   "cell_type": "code",
   "execution_count": 15,
   "metadata": {
    "scrolled": true
   },
   "outputs": [
    {
     "name": "stdout",
     "output_type": "stream",
     "text": [
      "Proportions of class 1\n",
      "   Training data:  0.50010311851\n",
      "   Test data:      0.499587526811\n"
     ]
    }
   ],
   "source": [
    "\n",
    "from sklearn.model_selection import train_test_split\n",
    "\n",
    "test_fraction = 0.20\n",
    "\n",
    "X = XY.drop('is_violation', axis=1)\n",
    "Y = XY['is_violation']\n",
    "\n",
    "X_train, X_test, y_train, y_test = train_test_split(\n",
    "    X, Y, \n",
    "    test_size=test_fraction, \n",
    "    random_state=np.random.seed(int(time.time())))\n",
    "\n",
    "p1_train = float(sum(y_train))/y_train.shape[0] \n",
    "p1_test = float(sum(y_test))/y_test.shape[0]\n",
    "print \"Proportions of class 1\"\n",
    "print \"   Training data: \", p1_train\n",
    "print \"   Test data:     \", p1_test"
   ]
  },
  {
   "cell_type": "code",
   "execution_count": null,
   "metadata": {
    "collapsed": true
   },
   "outputs": [],
   "source": []
  },
  {
   "cell_type": "code",
   "execution_count": null,
   "metadata": {
    "collapsed": true
   },
   "outputs": [],
   "source": []
  },
  {
   "cell_type": "code",
   "execution_count": null,
   "metadata": {
    "collapsed": true
   },
   "outputs": [],
   "source": [
    "import pickle\n",
    "\n",
    "def load_model(filename):\n",
    "    '''\n",
    "    Load model from pickle file.\n",
    "\n",
    "    Input:\n",
    "     - filename: str containing pickle file name\n",
    "\n",
    "    Output: sklearn model object\n",
    "\n",
    "    '''   \n",
    "    return pickle.load(open(filename, 'rb'))\n",
    "    \n",
    "\n",
    "    \n",
    "def prepare_features(x_in):\n",
    "    '''\n",
    "    Prepare input for model\n",
    "\n",
    "    '''\n",
    "    \n",
    "    # Separate string into list and remove spaces\n",
    "    x = [aux.strip() for aux in x_in.split(',')]\n",
    "\n",
    "    \n",
    "    # Create dictionary with zeros in all entries\n",
    "    d = {\n",
    "    'sic_code_A':0, 'sic_code_B':0,'sic_code_C':0, \n",
    "    'sic_code_D':0, 'sic_code_E':0, 'sic_code_F':0,\n",
    "    'sic_code_G':0, 'sic_code_H':0, 'sic_code_I':0, \n",
    "    'sic_code_J':0, 'sic_code_K':0, \n",
    "    'owner_type_A':0, 'owner_type_B':0, 'owner_type_C':0, 'owner_type_D':0, \n",
    "    'union_status_N':0, 'union_status_Y':0,\n",
    "    'nr_in_estab':0}\n",
    "    \n",
    "    \n",
    "    # Split SIC by division\n",
    "    sic_div = sic_division(int(x[0]))\n",
    "    \n",
    "    \n",
    "    # Check cases and fill dictionary\n",
    "    #\n",
    "    # 1) SIC division\n",
    "    if (sic_div=='A'):\n",
    "        d['sic_code_A']=1\n",
    "    elif(sic_div=='B'):\n",
    "        d['sic_code_B']=1\n",
    "    elif(sic_div=='C'):\n",
    "        d['sic_code_C']=1\n",
    "    elif(sic_div=='D'):\n",
    "        d['sic_code_D']=1\n",
    "    elif(sic_div=='E'):\n",
    "        d['sic_code_E']=1\n",
    "    elif(sic_div=='F'):\n",
    "        d['sic_code_F']=1\n",
    "    elif(sic_div=='G'):\n",
    "        d['sic_code_G']=1\n",
    "    elif(sic_div=='H'):\n",
    "        d['sic_code_H']=1\n",
    "    elif(sic_div=='I'):\n",
    "        d['sic_code_I']=1\n",
    "    elif(sic_div=='J'):\n",
    "        d['sic_code_J']=1\n",
    "    elif(sic_div=='K'):\n",
    "        d['sic_code_K']=1\n",
    "        \n",
    "    # 2) owner type\n",
    "    owner = x[1]\n",
    "    if (owner=='A'):\n",
    "        d['owner_type_A']=1\n",
    "    elif(owner=='B'):\n",
    "        d['owner_type_B']=1\n",
    "    elif(owner=='C'):\n",
    "        d['owner_type_C']=1\n",
    "    elif(owner=='D'):\n",
    "        d['owner_type_D']=1\n",
    "        \n",
    "    # 3) union status\n",
    "    us = x[2]\n",
    "    if (us=='Y'):\n",
    "        d['union_status_Y']=1\n",
    "    elif(us=='N'):\n",
    "        d['union_status_N']=1\n",
    "        \n",
    "    # 4) number of employees in establishment\n",
    "    d['nr_in_estab'] =  int(x[3])\n",
    "    \n",
    "    \n",
    "    # Create dataframe\n",
    "    df = pd.DataFrame([d])\n",
    "    \n",
    "    # Group SIC codes by division\n",
    "    #df['sic_code'] = df['sic_code'].apply(sic_division)\n",
    "\n",
    "    \n",
    "    \n",
    "    x_out = df[[\n",
    "    'sic_code_A', 'sic_code_B','sic_code_C', \n",
    "    'sic_code_D', 'sic_code_E', 'sic_code_F',\n",
    "    'sic_code_G', 'sic_code_H', 'sic_code_I', \n",
    "    'sic_code_J', 'sic_code_K', \n",
    "    'owner_type_A', 'owner_type_B', 'owner_type_C', 'owner_type_D', \n",
    "    'union_status_N', 'union_status_Y',\n",
    "    'nr_in_estab' \n",
    "    ]] \n",
    "\n",
    "    x_out\n",
    "    \n",
    "    # Return dataframe with created dummies\n",
    "    return x_out\n",
    "\n",
    "\n",
    "\n",
    "def predict(model_pickle, x_string):\n",
    "    '''\n",
    "    Evaluate model on given data vector x\n",
    "\n",
    "    Input:\n",
    "     - model_pickle: pickle file containing \n",
    "                     sklearn model object \n",
    "     -     x_string: input string \n",
    "\n",
    "    Output: model probability P(x in 1)\n",
    "\n",
    "    '''\n",
    "    \n",
    "    model = load_model(model_pickle)\n",
    "    x = prepare_features(x_string)\n",
    "    \n",
    "    \n",
    "    return model.predict_proba(x)[0,1]"
   ]
  },
  {
   "cell_type": "code",
   "execution_count": null,
   "metadata": {
    "collapsed": true
   },
   "outputs": [],
   "source": [
    "trash='3200, A , N, 2'\n",
    "predict('./trained_RF.sav', trash)"
   ]
  },
  {
   "cell_type": "code",
   "execution_count": null,
   "metadata": {
    "collapsed": true
   },
   "outputs": [],
   "source": []
  },
  {
   "cell_type": "markdown",
   "metadata": {
    "collapsed": true
   },
   "source": [
    "# Hyperparameter search"
   ]
  },
  {
   "cell_type": "code",
   "execution_count": 17,
   "metadata": {},
   "outputs": [],
   "source": [
    "from time import time\n",
    "\n",
    "def print_RSCV_results(results, n_top=3):\n",
    "    '''\n",
    "    Print results of Randomized Search CV\n",
    "    \n",
    "    INPUT\n",
    "      - results : results object of RandomizedSearchCV\n",
    "      - n_top   : number of models to display, from highest to lowest metric\n",
    "    \n",
    "    OUTPUT\n",
    "      - none\n",
    "    '''\n",
    "    \n",
    "    for i in range(1, n_top + 1):\n",
    "        candidates = np.flatnonzero(results['rank_test_score'] == i)\n",
    "        for candidate in candidates:\n",
    "            print \"Model with rank: {0}\".format(i)\n",
    "            print \"Mean validation score: {0:.3f} (std: {1:.3f})\".format(\n",
    "                results['mean_test_score'][candidate],\n",
    "                results['std_test_score'][candidate])\n",
    "            print \"Parameters: {0}\".format(results['params'][candidate])\n",
    "            print \"\"# specify parameters and distributions to sample from\n",
    "        "
   ]
  },
  {
   "cell_type": "code",
   "execution_count": 197,
   "metadata": {},
   "outputs": [
    {
     "name": "stdout",
     "output_type": "stream",
     "text": [
      "Fitting 3 folds for each of 25 candidates, totalling 75 fits\n",
      "[CV] bootstrap=False, min_samples_leaf=9, max_features=62, criterion=entropy, min_samples_split=65, max_depth=9 \n",
      "[CV] bootstrap=False, min_samples_leaf=9, max_features=62, criterion=entropy, min_samples_split=65, max_depth=9 \n",
      "[CV]  bootstrap=False, min_samples_leaf=9, max_features=62, criterion=entropy, min_samples_split=65, max_depth=9, total= 3.3min\n",
      "[CV] bootstrap=False, min_samples_leaf=9, max_features=62, criterion=entropy, min_samples_split=65, max_depth=9 \n",
      "[CV]  bootstrap=False, min_samples_leaf=9, max_features=62, criterion=entropy, min_samples_split=65, max_depth=9, total= 3.3min\n",
      "[CV] bootstrap=False, min_samples_leaf=8, max_features=22, criterion=gini, min_samples_split=165, max_depth=13 \n",
      "[CV]  bootstrap=False, min_samples_leaf=8, max_features=22, criterion=gini, min_samples_split=165, max_depth=13, total= 2.6min\n",
      "[CV] bootstrap=False, min_samples_leaf=8, max_features=22, criterion=gini, min_samples_split=165, max_depth=13 \n",
      "[CV]  bootstrap=False, min_samples_leaf=9, max_features=62, criterion=entropy, min_samples_split=65, max_depth=9, total= 4.4min\n",
      "[CV] bootstrap=False, min_samples_leaf=8, max_features=22, criterion=gini, min_samples_split=165, max_depth=13 \n",
      "[CV]  bootstrap=False, min_samples_leaf=8, max_features=22, criterion=gini, min_samples_split=165, max_depth=13, total= 2.1min\n",
      "[CV] bootstrap=True, min_samples_leaf=8, max_features=54, criterion=entropy, min_samples_split=68, max_depth=9 \n",
      "[CV]  bootstrap=False, min_samples_leaf=8, max_features=22, criterion=gini, min_samples_split=165, max_depth=13, total= 1.4min\n",
      "[CV] bootstrap=True, min_samples_leaf=8, max_features=54, criterion=entropy, min_samples_split=68, max_depth=9 \n",
      "[CV]  bootstrap=True, min_samples_leaf=8, max_features=54, criterion=entropy, min_samples_split=68, max_depth=9, total= 1.8min\n",
      "[CV] bootstrap=True, min_samples_leaf=8, max_features=54, criterion=entropy, min_samples_split=68, max_depth=9 \n",
      "[CV]  bootstrap=True, min_samples_leaf=8, max_features=54, criterion=entropy, min_samples_split=68, max_depth=9, total= 1.9min\n",
      "[CV] bootstrap=False, min_samples_leaf=7, max_features=34, criterion=gini, min_samples_split=143, max_depth=11 \n",
      "[CV]  bootstrap=True, min_samples_leaf=8, max_features=54, criterion=entropy, min_samples_split=68, max_depth=9, total= 1.8min\n",
      "[CV] bootstrap=False, min_samples_leaf=7, max_features=34, criterion=gini, min_samples_split=143, max_depth=11 \n",
      "[CV]  bootstrap=False, min_samples_leaf=7, max_features=34, criterion=gini, min_samples_split=143, max_depth=11, total= 1.9min\n",
      "[CV] bootstrap=False, min_samples_leaf=7, max_features=34, criterion=gini, min_samples_split=143, max_depth=11 \n",
      "[CV]  bootstrap=False, min_samples_leaf=7, max_features=34, criterion=gini, min_samples_split=143, max_depth=11, total= 2.4min\n",
      "[CV] bootstrap=False, min_samples_leaf=5, max_features=62, criterion=entropy, min_samples_split=111, max_depth=13 \n",
      "[CV]  bootstrap=False, min_samples_leaf=7, max_features=34, criterion=gini, min_samples_split=143, max_depth=11, total= 2.3min\n",
      "[CV] bootstrap=False, min_samples_leaf=5, max_features=62, criterion=entropy, min_samples_split=111, max_depth=13 \n",
      "[CV]  bootstrap=False, min_samples_leaf=5, max_features=62, criterion=entropy, min_samples_split=111, max_depth=13, total= 3.4min\n",
      "[CV] bootstrap=False, min_samples_leaf=5, max_features=62, criterion=entropy, min_samples_split=111, max_depth=13 \n",
      "[CV]  bootstrap=False, min_samples_leaf=5, max_features=62, criterion=entropy, min_samples_split=111, max_depth=13, total= 3.3min\n",
      "[CV] bootstrap=False, min_samples_leaf=8, max_features=38, criterion=gini, min_samples_split=156, max_depth=13 \n",
      "[CV]  bootstrap=False, min_samples_leaf=8, max_features=38, criterion=gini, min_samples_split=156, max_depth=13, total= 2.2min\n",
      "[CV] bootstrap=False, min_samples_leaf=8, max_features=38, criterion=gini, min_samples_split=156, max_depth=13 \n",
      "[CV]  bootstrap=False, min_samples_leaf=5, max_features=62, criterion=entropy, min_samples_split=111, max_depth=13, total= 3.2min\n",
      "[CV] bootstrap=False, min_samples_leaf=8, max_features=38, criterion=gini, min_samples_split=156, max_depth=13 \n",
      "[CV]  bootstrap=False, min_samples_leaf=8, max_features=38, criterion=gini, min_samples_split=156, max_depth=13, total= 2.1min\n",
      "[CV] bootstrap=True, min_samples_leaf=3, max_features=58, criterion=gini, min_samples_split=30, max_depth=9 \n",
      "[CV]  bootstrap=False, min_samples_leaf=8, max_features=38, criterion=gini, min_samples_split=156, max_depth=13, total= 2.1min\n",
      "[CV] bootstrap=True, min_samples_leaf=3, max_features=58, criterion=gini, min_samples_split=30, max_depth=9 \n",
      "[CV]  bootstrap=True, min_samples_leaf=3, max_features=58, criterion=gini, min_samples_split=30, max_depth=9, total= 1.7min\n",
      "[CV] bootstrap=True, min_samples_leaf=3, max_features=58, criterion=gini, min_samples_split=30, max_depth=9 \n",
      "[CV]  bootstrap=True, min_samples_leaf=3, max_features=58, criterion=gini, min_samples_split=30, max_depth=9, total= 1.8min\n",
      "[CV] bootstrap=True, min_samples_leaf=8, max_features=37, criterion=gini, min_samples_split=51, max_depth=11 \n",
      "[CV]  bootstrap=True, min_samples_leaf=8, max_features=37, criterion=gini, min_samples_split=51, max_depth=11, total= 1.5min\n",
      "[CV] bootstrap=True, min_samples_leaf=8, max_features=37, criterion=gini, min_samples_split=51, max_depth=11 \n",
      "[CV]  bootstrap=True, min_samples_leaf=3, max_features=58, criterion=gini, min_samples_split=30, max_depth=9, total= 1.7min\n",
      "[CV] bootstrap=True, min_samples_leaf=8, max_features=37, criterion=gini, min_samples_split=51, max_depth=11 \n",
      "[CV]  bootstrap=True, min_samples_leaf=8, max_features=37, criterion=gini, min_samples_split=51, max_depth=11, total= 1.5min\n",
      "[CV] bootstrap=True, min_samples_leaf=9, max_features=27, criterion=entropy, min_samples_split=53, max_depth=11 \n",
      "[CV]  bootstrap=True, min_samples_leaf=8, max_features=37, criterion=gini, min_samples_split=51, max_depth=11, total= 1.4min\n",
      "[CV] bootstrap=True, min_samples_leaf=9, max_features=27, criterion=entropy, min_samples_split=53, max_depth=11 \n",
      "[CV]  bootstrap=True, min_samples_leaf=9, max_features=27, criterion=entropy, min_samples_split=53, max_depth=11, total= 1.2min\n",
      "[CV] bootstrap=True, min_samples_leaf=9, max_features=27, criterion=entropy, min_samples_split=53, max_depth=11 \n",
      "[CV]  bootstrap=True, min_samples_leaf=9, max_features=27, criterion=entropy, min_samples_split=53, max_depth=11, total= 1.1min\n",
      "[CV] bootstrap=True, min_samples_leaf=1, max_features=50, criterion=entropy, min_samples_split=69, max_depth=13 \n",
      "[CV]  bootstrap=True, min_samples_leaf=9, max_features=27, criterion=entropy, min_samples_split=53, max_depth=11, total= 1.2min\n",
      "[CV] bootstrap=True, min_samples_leaf=1, max_features=50, criterion=entropy, min_samples_split=69, max_depth=13 \n",
      "[CV]  bootstrap=True, min_samples_leaf=1, max_features=50, criterion=entropy, min_samples_split=69, max_depth=13, total= 2.2min\n",
      "[CV] bootstrap=True, min_samples_leaf=1, max_features=50, criterion=entropy, min_samples_split=69, max_depth=13 \n",
      "[CV]  bootstrap=True, min_samples_leaf=1, max_features=50, criterion=entropy, min_samples_split=69, max_depth=13, total= 2.4min\n",
      "[CV] bootstrap=True, min_samples_leaf=10, max_features=55, criterion=entropy, min_samples_split=60, max_depth=11 \n",
      "[CV]  bootstrap=True, min_samples_leaf=1, max_features=50, criterion=entropy, min_samples_split=69, max_depth=13, total= 2.4min\n",
      "[CV] bootstrap=True, min_samples_leaf=10, max_features=55, criterion=entropy, min_samples_split=60, max_depth=11 \n",
      "[CV]  bootstrap=True, min_samples_leaf=10, max_features=55, criterion=entropy, min_samples_split=60, max_depth=11, total= 2.2min\n",
      "[CV] bootstrap=True, min_samples_leaf=10, max_features=55, criterion=entropy, min_samples_split=60, max_depth=11 \n",
      "[CV]  bootstrap=True, min_samples_leaf=10, max_features=55, criterion=entropy, min_samples_split=60, max_depth=11, total= 2.9min\n",
      "[CV] bootstrap=True, min_samples_leaf=7, max_features=36, criterion=entropy, min_samples_split=162, max_depth=11 \n",
      "[CV]  bootstrap=True, min_samples_leaf=10, max_features=55, criterion=entropy, min_samples_split=60, max_depth=11, total= 3.0min\n",
      "[CV] bootstrap=True, min_samples_leaf=7, max_features=36, criterion=entropy, min_samples_split=162, max_depth=11 \n"
     ]
    },
    {
     "name": "stdout",
     "output_type": "stream",
     "text": [
      "[CV]  bootstrap=True, min_samples_leaf=7, max_features=36, criterion=entropy, min_samples_split=162, max_depth=11, total= 1.8min\n",
      "[CV] bootstrap=True, min_samples_leaf=7, max_features=36, criterion=entropy, min_samples_split=162, max_depth=11 \n",
      "[CV]  bootstrap=True, min_samples_leaf=7, max_features=36, criterion=entropy, min_samples_split=162, max_depth=11, total= 1.8min\n",
      "[CV] bootstrap=False, min_samples_leaf=6, max_features=63, criterion=entropy, min_samples_split=124, max_depth=11 \n",
      "[CV]  bootstrap=True, min_samples_leaf=7, max_features=36, criterion=entropy, min_samples_split=162, max_depth=11, total= 1.8min\n",
      "[CV] bootstrap=False, min_samples_leaf=6, max_features=63, criterion=entropy, min_samples_split=124, max_depth=11 \n",
      "[CV]  bootstrap=False, min_samples_leaf=6, max_features=63, criterion=entropy, min_samples_split=124, max_depth=11, total= 3.4min\n"
     ]
    },
    {
     "name": "stderr",
     "output_type": "stream",
     "text": [
      "[Parallel(n_jobs=2)]: Done  37 tasks      | elapsed: 44.6min\n"
     ]
    },
    {
     "name": "stdout",
     "output_type": "stream",
     "text": [
      "[CV] bootstrap=False, min_samples_leaf=6, max_features=63, criterion=entropy, min_samples_split=124, max_depth=11 \n",
      "[CV]  bootstrap=False, min_samples_leaf=6, max_features=63, criterion=entropy, min_samples_split=124, max_depth=11, total= 3.4min\n",
      "[CV] bootstrap=False, min_samples_leaf=5, max_features=20, criterion=entropy, min_samples_split=115, max_depth=9 \n",
      "[CV]  bootstrap=False, min_samples_leaf=5, max_features=20, criterion=entropy, min_samples_split=115, max_depth=9, total= 1.0min\n",
      "[CV] bootstrap=False, min_samples_leaf=5, max_features=20, criterion=entropy, min_samples_split=115, max_depth=9 \n",
      "[CV]  bootstrap=False, min_samples_leaf=5, max_features=20, criterion=entropy, min_samples_split=115, max_depth=9, total= 1.1min\n",
      "[CV] bootstrap=False, min_samples_leaf=5, max_features=20, criterion=entropy, min_samples_split=115, max_depth=9 \n",
      "[CV]  bootstrap=False, min_samples_leaf=6, max_features=63, criterion=entropy, min_samples_split=124, max_depth=11, total= 2.9min\n",
      "[CV] bootstrap=False, min_samples_leaf=5, max_features=46, criterion=entropy, min_samples_split=93, max_depth=11 \n",
      "[CV]  bootstrap=False, min_samples_leaf=5, max_features=20, criterion=entropy, min_samples_split=115, max_depth=9, total= 1.0min\n",
      "[CV] bootstrap=False, min_samples_leaf=5, max_features=46, criterion=entropy, min_samples_split=93, max_depth=11 \n",
      "[CV]  bootstrap=False, min_samples_leaf=5, max_features=46, criterion=entropy, min_samples_split=93, max_depth=11, total= 2.3min\n",
      "[CV] bootstrap=False, min_samples_leaf=5, max_features=46, criterion=entropy, min_samples_split=93, max_depth=11 \n",
      "[CV]  bootstrap=False, min_samples_leaf=5, max_features=46, criterion=entropy, min_samples_split=93, max_depth=11, total= 2.3min\n",
      "[CV] bootstrap=False, min_samples_leaf=8, max_features=30, criterion=entropy, min_samples_split=107, max_depth=13 \n",
      "[CV]  bootstrap=False, min_samples_leaf=5, max_features=46, criterion=entropy, min_samples_split=93, max_depth=11, total= 2.2min\n",
      "[CV] bootstrap=False, min_samples_leaf=8, max_features=30, criterion=entropy, min_samples_split=107, max_depth=13 \n",
      "[CV]  bootstrap=False, min_samples_leaf=8, max_features=30, criterion=entropy, min_samples_split=107, max_depth=13, total= 1.7min\n",
      "[CV] bootstrap=False, min_samples_leaf=8, max_features=30, criterion=entropy, min_samples_split=107, max_depth=13 \n",
      "[CV]  bootstrap=False, min_samples_leaf=8, max_features=30, criterion=entropy, min_samples_split=107, max_depth=13, total= 1.8min\n",
      "[CV] bootstrap=True, min_samples_leaf=8, max_features=44, criterion=gini, min_samples_split=56, max_depth=11 \n",
      "[CV]  bootstrap=False, min_samples_leaf=8, max_features=30, criterion=entropy, min_samples_split=107, max_depth=13, total= 2.0min\n",
      "[CV] bootstrap=True, min_samples_leaf=8, max_features=44, criterion=gini, min_samples_split=56, max_depth=11 \n",
      "[CV]  bootstrap=True, min_samples_leaf=8, max_features=44, criterion=gini, min_samples_split=56, max_depth=11, total= 1.9min\n",
      "[CV] bootstrap=True, min_samples_leaf=8, max_features=44, criterion=gini, min_samples_split=56, max_depth=11 \n",
      "[CV]  bootstrap=True, min_samples_leaf=8, max_features=44, criterion=gini, min_samples_split=56, max_depth=11, total= 1.7min\n",
      "[CV] bootstrap=True, min_samples_leaf=8, max_features=36, criterion=gini, min_samples_split=52, max_depth=13 \n",
      "[CV]  bootstrap=True, min_samples_leaf=8, max_features=44, criterion=gini, min_samples_split=56, max_depth=11, total= 1.7min\n",
      "[CV] bootstrap=True, min_samples_leaf=8, max_features=36, criterion=gini, min_samples_split=52, max_depth=13 \n",
      "[CV]  bootstrap=True, min_samples_leaf=8, max_features=36, criterion=gini, min_samples_split=52, max_depth=13, total= 1.7min\n",
      "[CV] bootstrap=True, min_samples_leaf=8, max_features=36, criterion=gini, min_samples_split=52, max_depth=13 \n",
      "[CV]  bootstrap=True, min_samples_leaf=8, max_features=36, criterion=gini, min_samples_split=52, max_depth=13, total= 2.0min\n",
      "[CV] bootstrap=True, min_samples_leaf=10, max_features=26, criterion=entropy, min_samples_split=79, max_depth=9 \n",
      "[CV]  bootstrap=True, min_samples_leaf=8, max_features=36, criterion=gini, min_samples_split=52, max_depth=13, total= 1.9min\n",
      "[CV] bootstrap=True, min_samples_leaf=10, max_features=26, criterion=entropy, min_samples_split=79, max_depth=9 \n",
      "[CV]  bootstrap=True, min_samples_leaf=10, max_features=26, criterion=entropy, min_samples_split=79, max_depth=9, total=  59.2s\n",
      "[CV] bootstrap=True, min_samples_leaf=10, max_features=26, criterion=entropy, min_samples_split=79, max_depth=9 \n",
      "[CV]  bootstrap=True, min_samples_leaf=10, max_features=26, criterion=entropy, min_samples_split=79, max_depth=9, total= 1.1min\n",
      "[CV] bootstrap=False, min_samples_leaf=1, max_features=37, criterion=entropy, min_samples_split=43, max_depth=9 \n",
      "[CV]  bootstrap=True, min_samples_leaf=10, max_features=26, criterion=entropy, min_samples_split=79, max_depth=9, total= 1.2min\n",
      "[CV] bootstrap=False, min_samples_leaf=1, max_features=37, criterion=entropy, min_samples_split=43, max_depth=9 \n",
      "[CV]  bootstrap=False, min_samples_leaf=1, max_features=37, criterion=entropy, min_samples_split=43, max_depth=9, total= 1.7min\n",
      "[CV] bootstrap=False, min_samples_leaf=1, max_features=37, criterion=entropy, min_samples_split=43, max_depth=9 \n",
      "[CV]  bootstrap=False, min_samples_leaf=1, max_features=37, criterion=entropy, min_samples_split=43, max_depth=9, total= 1.9min\n",
      "[CV] bootstrap=False, min_samples_leaf=4, max_features=36, criterion=entropy, min_samples_split=131, max_depth=11 \n",
      "[CV]  bootstrap=False, min_samples_leaf=1, max_features=37, criterion=entropy, min_samples_split=43, max_depth=9, total= 2.1min\n",
      "[CV] bootstrap=False, min_samples_leaf=4, max_features=36, criterion=entropy, min_samples_split=131, max_depth=11 \n",
      "[CV]  bootstrap=False, min_samples_leaf=4, max_features=36, criterion=entropy, min_samples_split=131, max_depth=11, total= 2.6min\n",
      "[CV] bootstrap=False, min_samples_leaf=4, max_features=36, criterion=entropy, min_samples_split=131, max_depth=11 \n",
      "[CV]  bootstrap=False, min_samples_leaf=4, max_features=36, criterion=entropy, min_samples_split=131, max_depth=11, total= 2.3min\n",
      "[CV] bootstrap=False, min_samples_leaf=3, max_features=53, criterion=gini, min_samples_split=125, max_depth=11 \n",
      "[CV]  bootstrap=False, min_samples_leaf=4, max_features=36, criterion=entropy, min_samples_split=131, max_depth=11, total= 2.2min\n",
      "[CV] bootstrap=False, min_samples_leaf=3, max_features=53, criterion=gini, min_samples_split=125, max_depth=11 \n",
      "[CV]  bootstrap=False, min_samples_leaf=3, max_features=53, criterion=gini, min_samples_split=125, max_depth=11, total= 2.8min\n",
      "[CV] bootstrap=False, min_samples_leaf=3, max_features=53, criterion=gini, min_samples_split=125, max_depth=11 \n",
      "[CV]  bootstrap=False, min_samples_leaf=3, max_features=53, criterion=gini, min_samples_split=125, max_depth=11, total= 2.9min\n",
      "[CV] bootstrap=True, min_samples_leaf=1, max_features=25, criterion=gini, min_samples_split=115, max_depth=13 \n",
      "[CV]  bootstrap=True, min_samples_leaf=1, max_features=25, criterion=gini, min_samples_split=115, max_depth=13, total= 2.7min\n",
      "[CV] bootstrap=True, min_samples_leaf=1, max_features=25, criterion=gini, min_samples_split=115, max_depth=13 \n",
      "[CV]  bootstrap=False, min_samples_leaf=3, max_features=53, criterion=gini, min_samples_split=125, max_depth=11, total= 4.5min\n",
      "[CV] bootstrap=True, min_samples_leaf=1, max_features=25, criterion=gini, min_samples_split=115, max_depth=13 \n",
      "[CV]  bootstrap=True, min_samples_leaf=1, max_features=25, criterion=gini, min_samples_split=115, max_depth=13, total= 4.9min\n",
      "[CV] bootstrap=True, min_samples_leaf=1, max_features=36, criterion=entropy, min_samples_split=109, max_depth=13 \n",
      "[CV]  bootstrap=True, min_samples_leaf=1, max_features=25, criterion=gini, min_samples_split=115, max_depth=13, total= 4.5min\n",
      "[CV] bootstrap=True, min_samples_leaf=1, max_features=36, criterion=entropy, min_samples_split=109, max_depth=13 \n",
      "[CV]  bootstrap=True, min_samples_leaf=1, max_features=36, criterion=entropy, min_samples_split=109, max_depth=13, total= 4.6min\n",
      "[CV] bootstrap=True, min_samples_leaf=1, max_features=36, criterion=entropy, min_samples_split=109, max_depth=13 \n",
      "[CV]  bootstrap=True, min_samples_leaf=1, max_features=36, criterion=entropy, min_samples_split=109, max_depth=13, total= 4.7min\n",
      "[CV] bootstrap=True, min_samples_leaf=1, max_features=54, criterion=gini, min_samples_split=81, max_depth=11 \n"
     ]
    },
    {
     "name": "stdout",
     "output_type": "stream",
     "text": [
      "[CV]  bootstrap=True, min_samples_leaf=1, max_features=36, criterion=entropy, min_samples_split=109, max_depth=13, total= 3.6min\n",
      "[CV] bootstrap=True, min_samples_leaf=1, max_features=54, criterion=gini, min_samples_split=81, max_depth=11 \n",
      "[CV]  bootstrap=True, min_samples_leaf=1, max_features=54, criterion=gini, min_samples_split=81, max_depth=11, total= 4.2min\n",
      "[CV] bootstrap=True, min_samples_leaf=1, max_features=54, criterion=gini, min_samples_split=81, max_depth=11 \n",
      "[CV]  bootstrap=True, min_samples_leaf=1, max_features=54, criterion=gini, min_samples_split=81, max_depth=11, total= 3.1min\n",
      "[CV]  bootstrap=True, min_samples_leaf=1, max_features=54, criterion=gini, min_samples_split=81, max_depth=11, total= 2.7min\n"
     ]
    },
    {
     "name": "stderr",
     "output_type": "stream",
     "text": [
      "[Parallel(n_jobs=2)]: Done  75 out of  75 | elapsed: 93.4min finished\n"
     ]
    },
    {
     "name": "stdout",
     "output_type": "stream",
     "text": [
      "Elapsed time:  5754.90136504 seconds for  25 hyperparameter choices\n"
     ]
    }
   ],
   "source": [
    "# Utility function to report best scores of random search of hyperparameters\n",
    "\n",
    "from scipy.stats import randint as sp_randint\n",
    "from sklearn.ensemble import RandomForestClassifier\n",
    "from sklearn.model_selection import RandomizedSearchCV\n",
    "\n",
    "\n",
    "# Initialize classifier instance\n",
    "clf = RandomForestClassifier()\n",
    "        \n",
    "# Dictionary containing hyperparameter values.\n",
    "# Keys coincide with RF variable names\n",
    "param_dist = {\"max_depth\": [9,11,13],\n",
    "             \"max_features\": sp_randint(np.floor(0.25*X.shape[1]), X.shape[1]),  # in range (Nfeat/4, Nfeat)\n",
    "             \"min_samples_split\": sp_randint(30, 200),\n",
    "             \"min_samples_leaf\": sp_randint(1, 11),\n",
    "             \"bootstrap\": [True, False],\n",
    "             \"criterion\": [\"gini\", \"entropy\"]} # run randomized search\n",
    "\n",
    "n_iter_search = 25\n",
    "random_search = RandomizedSearchCV(\n",
    "    clf, \n",
    "    param_distributions=param_dist,\n",
    "    scoring=\"accuracy\",\n",
    "    n_iter=n_iter_search,\n",
    "    n_jobs=2,\n",
    "    verbose=2)\n",
    "\n",
    "\n",
    "# X_train, X_test, y_train, y_test\n",
    "start = time()\n",
    "random_search.fit(X, Y)\n",
    "#print \"RandomizedSearchCV took %.2f seconds for %d candidates\", \" parameter settings.\" % ((time() - start), n_iter_search)\n",
    "print \"Elapsed time: \", (time() - start), \"seconds for \", n_iter_search ,\"hyperparameter choices\""
   ]
  },
  {
   "cell_type": "code",
   "execution_count": 198,
   "metadata": {},
   "outputs": [
    {
     "name": "stdout",
     "output_type": "stream",
     "text": [
      "Model with rank: 1\n",
      "Mean validation score: 0.652 (std: 0.001)\n",
      "Parameters: {'bootstrap': False, 'min_samples_leaf': 8, 'min_samples_split': 156, 'criterion': 'gini', 'max_features': 38, 'max_depth': 13}\n",
      "\n",
      "Model with rank: 2\n",
      "Mean validation score: 0.652 (std: 0.002)\n",
      "Parameters: {'bootstrap': True, 'min_samples_leaf': 8, 'min_samples_split': 52, 'criterion': 'gini', 'max_features': 36, 'max_depth': 13}\n",
      "\n",
      "Model with rank: 3\n",
      "Mean validation score: 0.652 (std: 0.001)\n",
      "Parameters: {'bootstrap': False, 'min_samples_leaf': 5, 'min_samples_split': 111, 'criterion': 'entropy', 'max_features': 62, 'max_depth': 13}\n",
      "\n",
      "Model with rank: 4\n",
      "Mean validation score: 0.651 (std: 0.002)\n",
      "Parameters: {'bootstrap': True, 'min_samples_leaf': 1, 'min_samples_split': 109, 'criterion': 'entropy', 'max_features': 36, 'max_depth': 13}\n",
      "\n",
      "Model with rank: 5\n",
      "Mean validation score: 0.651 (std: 0.001)\n",
      "Parameters: {'bootstrap': True, 'min_samples_leaf': 1, 'min_samples_split': 115, 'criterion': 'gini', 'max_features': 25, 'max_depth': 13}\n",
      "\n"
     ]
    }
   ],
   "source": [
    "print_RSCV_results(random_search.cv_results_, n_top=5)"
   ]
  },
  {
   "cell_type": "markdown",
   "metadata": {
    "collapsed": true
   },
   "source": [
    "### Assessing model metrics for optimal hyperparameters"
   ]
  },
  {
   "cell_type": "markdown",
   "metadata": {},
   "source": [
    "#### Train model"
   ]
  },
  {
   "cell_type": "code",
   "execution_count": 199,
   "metadata": {},
   "outputs": [
    {
     "data": {
      "text/plain": [
       "RandomForestClassifier(bootstrap=False, class_weight=None, criterion='gini',\n",
       "            max_depth=13, max_features=38, max_leaf_nodes=None,\n",
       "            min_impurity_split=1e-07, min_samples_leaf=8,\n",
       "            min_samples_split=156, min_weight_fraction_leaf=0.0,\n",
       "            n_estimators=30, n_jobs=2, oob_score=False, random_state=None,\n",
       "            verbose=0, warm_start=False)"
      ]
     },
     "execution_count": 199,
     "metadata": {},
     "output_type": "execute_result"
    }
   ],
   "source": [
    "# Retrain model with optimal parameters\n",
    "from sklearn.ensemble import RandomForestClassifier\n",
    "\n",
    "\n",
    "# Optimal parameter values\n",
    "optparams = random_search.cv_results_['params'][np.argmin(random_search.cv_results_['rank_test_score'])]\n",
    "\n",
    "\n",
    "clf = RandomForestClassifier(n_jobs=2, n_estimators=30,\n",
    "    bootstrap         = optparams['bootstrap'],\n",
    "    min_samples_leaf  = optparams['min_samples_leaf'],\n",
    "    min_samples_split = optparams['min_samples_split'], \n",
    "    criterion         = optparams['criterion'], \n",
    "    max_features      = optparams['max_features'], \n",
    "    max_depth         = optparams['max_depth']\n",
    "    ) #, random_state=0)\n",
    "\n",
    "\n",
    "clf.fit(X_train, y_train)"
   ]
  },
  {
   "cell_type": "code",
   "execution_count": 200,
   "metadata": {
    "collapsed": true
   },
   "outputs": [],
   "source": [
    "# save the model to disk\n",
    "import pickle\n",
    "filename = './trained_RF.sav'\n",
    "pickle.dump(clf, open(filename, 'wb'))"
   ]
  },
  {
   "cell_type": "markdown",
   "metadata": {},
   "source": [
    "#### Compute metrics for model on test data"
   ]
  },
  {
   "cell_type": "code",
   "execution_count": 201,
   "metadata": {},
   "outputs": [
    {
     "name": "stdout",
     "output_type": "stream",
     "text": [
      "  accuracy:   0.652243854149\n",
      "  precision:  0.630135049141\n",
      "  recall:     0.735799207398\n",
      "  AUC:        0.700652017489\n"
     ]
    }
   ],
   "source": [
    "\n",
    "from sklearn.metrics import accuracy_score, precision_score, recall_score\n",
    "from sklearn.metrics import roc_auc_score\n",
    "\n",
    "y_pred = clf.predict(X_test)\n",
    "\n",
    "apr = [\n",
    "    accuracy_score(y_test, y_pred), \n",
    "    precision_score(y_test, y_pred), \n",
    "    recall_score(y_test, y_pred)]  \n",
    "\n",
    "\n",
    "print \"  accuracy:  \", apr[0] # can also be computed with clf.score(X_test, y_test)\n",
    "print \"  precision: \", apr[1]\n",
    "print \"  recall:    \", apr[2]\n",
    "\n",
    "# ROC (receiver operating characteristic) AUC (area under the curve) is insensitive of unbalanced classes\n",
    "auc = roc_auc_score(y_test, clf.predict_proba(X_test)[:, 1])\n",
    "print \"  AUC:       \", auc    \n"
   ]
  },
  {
   "cell_type": "code",
   "execution_count": 202,
   "metadata": {},
   "outputs": [
    {
     "data": {
      "text/plain": [
       "<matplotlib.text.Text at 0x140045190>"
      ]
     },
     "execution_count": 202,
     "metadata": {},
     "output_type": "execute_result"
    },
    {
     "data": {
      "image/png": "[encoded data removed]",
      "text/plain": [
       "<matplotlib.figure.Figure at 0x14229f190>"
      ]
     },
     "metadata": {},
     "output_type": "display_data"
    }
   ],
   "source": [
    "# Probabilities of positive class\n",
    "pred_prob = clf.predict_proba(X_test)[:,1]\n",
    "height, edges, patches = plt.hist(pred_prob, bins='auto', normed='true')\n",
    "\n",
    "fs = 18\n",
    "\n",
    "plt.xlabel('predicted probability', fontsize=fs)\n",
    "plt.ylabel('mass', fontsize=fs)"
   ]
  },
  {
   "cell_type": "code",
   "execution_count": 203,
   "metadata": {},
   "outputs": [
    {
     "data": {
      "image/png": "[encoded data removed]",
      "text/plain": [
       "<matplotlib.figure.Figure at 0x13ff27250>"
      ]
     },
     "metadata": {},
     "output_type": "display_data"
    }
   ],
   "source": [
    "from sklearn import metrics\n",
    "fpr, tpr, thresholds = metrics.roc_curve(y_test, pred_prob)#, pos_label=2)\n",
    "\n",
    "# \n",
    "lw = 2\n",
    "fs = 18\n",
    "plt.plot(fpr, tpr)#, label='RT + LR')\n",
    "plt.plot([0, 1], [0, 1], 'k--', lw=lw)\n",
    "plt.xlabel('false positive rate', fontsize=fs )\n",
    "plt.ylabel('true positive rate', fontsize=fs )\n",
    "#plt.title('receiver operating characteristic')\n",
    "plt.xlim(0,1)\n",
    "plt.ylim(0,1)\n",
    "plt.savefig('usa1996-2015_roc_curve.png',  bbox_inches='tight')"
   ]
  },
  {
   "cell_type": "code",
   "execution_count": 204,
   "metadata": {
    "collapsed": true
   },
   "outputs": [],
   "source": [
    "# Compute feature importance\n",
    "feat_imp = clf.feature_importances_\n",
    "num_feat = len(feat_imp)\n",
    "\n",
    "# Sort in ascending order\n",
    "index_sorted = np.flip(np.argsort(feat_imp), 0)\n",
    "feat_imp = feat_imp[index_sorted]\n",
    "feature_labels = X_test.columns[index_sorted]"
   ]
  },
  {
   "cell_type": "code",
   "execution_count": 205,
   "metadata": {},
   "outputs": [
    {
     "data": {
      "image/png": "[encoded data removed]",
      "text/plain": [
       "<matplotlib.figure.Figure at 0x13fc828d0>"
      ]
     },
     "metadata": {},
     "output_type": "display_data"
    }
   ],
   "source": [
    "# Plot feature importance\n",
    "\n",
    "fs=18\n",
    "\n",
    "Nbars= 10# np.shape(clf.feature_importances_)[0]\n",
    "\n",
    "fig, ax = plt.subplots()\n",
    "\n",
    "\n",
    "ax.barh(np.arange(0,Nbars), feat_imp[0:Nbars])\n",
    "ax.set_yticks(np.arange(0,Nbars))\n",
    "\n",
    "\n",
    "ax.set_yticklabels(feature_labels, fontsize=fs-3) #, rotation='vertical')\n",
    "\n",
    "\n",
    "\n",
    "ax.set_xlabel('feature importance', fontsize=fs)\n",
    "#ax.set_title('Feature', fontsize=fs)\n",
    "plt.savefig('feature_importance_all.png',  bbox_inches='tight', dpi=500)"
   ]
  },
  {
   "cell_type": "code",
   "execution_count": 206,
   "metadata": {},
   "outputs": [],
   "source": [
    "# Aggregate features by type\n",
    "imp = np.zeros(5)\n",
    "lbls = [\n",
    "    'number of workers', \n",
    "    'ind. sector', \n",
    "    'ownership type', \n",
    "    'US state',\n",
    "    'union affiliation']\n",
    "\n",
    "for i in range(0,np.shape(feat_imp)[0]):\n",
    "    \n",
    "    lbl=feature_labels.values[i] # These are already sorted\n",
    "    \n",
    "    if   lbl[0:3] == 'nr_':\n",
    "        imp[0] += feat_imp[i]\n",
    "    elif lbl[0:3] == 'sic':\n",
    "        imp[1] += feat_imp[i]\n",
    "    elif lbl[0:3] == 'own':\n",
    "        imp[2] += feat_imp[i]\n",
    "    elif lbl[0:3] == 'sit':\n",
    "        imp[3] += feat_imp[i]\n",
    "    elif lbl[0:3] == 'uni':\n",
    "        imp[4] += feat_imp[i]\n",
    "\n",
    "\n",
    "# Sort in ascending order\n",
    "agg_index_sorted = np.flip(np.argsort(imp), 0)\n",
    "agg_feat_imp = imp[agg_index_sorted]"
   ]
  },
  {
   "cell_type": "code",
   "execution_count": 207,
   "metadata": {
    "scrolled": true
   },
   "outputs": [
    {
     "data": {
      "image/png": "[encoded data removed]",
      "text/plain": [
       "<matplotlib.figure.Figure at 0x13f838310>"
      ]
     },
     "metadata": {},
     "output_type": "display_data"
    }
   ],
   "source": [
    "# Plot aggregated feature importance\n",
    "\n",
    "fs=18\n",
    "\n",
    "Nbars= len(imp)\n",
    "\n",
    "fig, ax = plt.subplots()\n",
    "\n",
    "\n",
    "ax.barh(np.arange(0,Nbars), imp[agg_index_sorted])\n",
    "ax.set_yticks(np.arange(0,Nbars))\n",
    "\n",
    "my_labels = ['number of workers', \n",
    "             'industry sector',\n",
    "             'ownership (private vs. public)', \n",
    "             'US state', \n",
    "             'union affiliation']\n",
    "\n",
    "ax.set_yticklabels(np.array(my_labels)[agg_index_sorted], fontsize=fs-3) #, rotation='vertical')\n",
    "\n",
    "\n",
    "\n",
    "ax.set_xlabel('feature importance', fontsize=fs)\n",
    "plt.savefig('feature_importance_grouped.png',  bbox_inches='tight', dpi=500)"
   ]
  },
  {
   "cell_type": "markdown",
   "metadata": {},
   "source": [
    "#### Convergence of K-L divergence of p(p(1))\n",
    "One hyperparameter that was not optimized was the number of estimators. We chose the value n_estimators=30. Is the model converged at that value or will we need more estimators?"
   ]
  },
  {
   "cell_type": "code",
   "execution_count": 208,
   "metadata": {
    "collapsed": true
   },
   "outputs": [],
   "source": [
    "# Kullbeck-Leibler divergence\n",
    "def KL_div(a, b):\n",
    "    a = np.asarray(a, dtype=np.float)\n",
    "    b = np.asarray(b, dtype=np.float)\n",
    "\n",
    "    return np.sum(np.where(a != 0 and b>1.0E-08, a * np.log(a / b), 0))"
   ]
  },
  {
   "cell_type": "code",
   "execution_count": 225,
   "metadata": {},
   "outputs": [
    {
     "data": {
      "text/plain": [
       "<matplotlib.legend.Legend at 0x13d65ebd0>"
      ]
     },
     "execution_count": 225,
     "metadata": {},
     "output_type": "execute_result"
    },
    {
     "data": {
      "image/png": "[encoded data removed]",
      "text/plain": [
       "<matplotlib.figure.Figure at 0x13eaff890>"
      ]
     },
     "metadata": {},
     "output_type": "display_data"
    }
   ],
   "source": [
    "# Train and compute probabilities\n",
    "\n",
    "Nbins = 50 # Bins for histograms\n",
    "n_est = [5, 10, 15, 20, 30, 40, 100]\n",
    "\n",
    "hbins=[]\n",
    "for n in n_est:\n",
    "    \n",
    "    clf = RandomForestClassifier(n_jobs=2, n_estimators = n, \n",
    "        bootstrap         = optparams['bootstrap'],\n",
    "        min_samples_leaf  = optparams['min_samples_leaf'],\n",
    "        min_samples_split = optparams['min_samples_split'], \n",
    "        criterion         = optparams['criterion'], \n",
    "        max_features      = optparams['max_features'], \n",
    "        max_depth         = optparams['max_depth']\n",
    "        )\n",
    "\n",
    "    clf.fit(X_train, y_train)\n",
    "    \n",
    "    \n",
    "    pred_prob = clf.predict_proba(X_test)[:,1]\n",
    "    h, e, p = plt.hist(\n",
    "        pred_prob, \n",
    "        bins=Nbins, \n",
    "        range=(0.0,1.0), \n",
    "        normed='true',\n",
    "        label=str(n)+ ' estimators')\n",
    "\n",
    "    \n",
    "    hbins.append(h)\n",
    "\n",
    "plt.xlabel('positive class probability', fontsize=fs)\n",
    "plt.ylabel('probability mass', fontsize=fs)\n",
    "plt.legend()\n",
    "plt.savefig('./p1dist_nestimators.png')"
   ]
  },
  {
   "cell_type": "code",
   "execution_count": 226,
   "metadata": {},
   "outputs": [],
   "source": [
    "# Kullbeck-Leibler divergence\n",
    "def KL_div(p1, p2, threshold = 1.0E-07):\n",
    "    '''\n",
    "    Kullbeck-Leibler divervgence of distribution\n",
    "    p1 to p2.\n",
    "    '''\n",
    "    p1 = np.asarray(p1, dtype=np.float)\n",
    "    p2 = np.asarray(p2, dtype=np.float)\n",
    "    \n",
    "        \n",
    "    # If there are zeros, remove.\n",
    "    # Remove first zeros from p1\n",
    "    p2 = np.extract(p1 > threshold, p2)\n",
    "    p1 = np.extract(p1 > threshold, p1)\n",
    "    \n",
    "    # Now remove zeros from p2\n",
    "    p1 = np.extract(p2 > threshold, p1)\n",
    "    p2 = np.extract(p1 > threshold, p2)\n",
    "        \n",
    "    return np.sum(p1 * np.log(p1 / p2))\n",
    "    "
   ]
  },
  {
   "cell_type": "code",
   "execution_count": 227,
   "metadata": {},
   "outputs": [],
   "source": [
    "# From probabilities, compute KL divergences\n",
    "# to the baseline (larger n_estiamators model)\n",
    "KLs=np.zeros(len(hbins)-1)\n",
    "\n",
    "for i in range(0,len(hbins)-1):\n",
    "    p = hbins[i]\n",
    "    q = hbins[len(hbins)-1]\n",
    "    KLs[i] = KL_div(p,q)\n",
    "    "
   ]
  },
  {
   "cell_type": "code",
   "execution_count": 228,
   "metadata": {},
   "outputs": [
    {
     "data": {
      "image/png": "[encoded data removed]",
      "text/plain": [
       "<matplotlib.figure.Figure at 0x13d64fe90>"
      ]
     },
     "metadata": {},
     "output_type": "display_data"
    }
   ],
   "source": [
    "# Plot KL divergences\n",
    "fs=18\n",
    "\n",
    "plt.plot(n_est[0:len(hbins)-1], KLs, '-')\n",
    "plt.plot(n_est[0:len(hbins)-1], KLs, 'o', color='k', markersize=6)\n",
    "plt.xlabel('number of estimators', fontsize=fs)\n",
    "plt.ylabel('KL divergence', fontsize=fs)\n",
    "plt.savefig('./KLconvergence.png',  bbox_inches='tight', dpi=500)"
   ]
  },
  {
   "cell_type": "code",
   "execution_count": 228,
   "metadata": {},
   "outputs": [
    {
     "data": {
      "image/png": "[encoded data removed]",
      "text/plain": [
       "<matplotlib.figure.Figure at 0x13d64fe90>"
      ]
     },
     "metadata": {},
     "output_type": "display_data"
    }
   ],
   "source": [
    "# Plot KL divergences\n",
    "fs=18\n",
    "\n",
    "plt.plot(n_est[0:len(hbins)-1], KLs, '-')\n",
    "plt.plot(n_est[0:len(hbins)-1], KLs, 'o', color='k', markersize=6)\n",
    "plt.xlabel('number of estimators', fontsize=fs)\n",
    "plt.ylabel('KL divergence', fontsize=fs)\n",
    "plt.savefig('./KLconvergence.png',  bbox_inches='tight', dpi=500)"
   ]
  },
  {
   "cell_type": "markdown",
   "metadata": {},
   "source": [
    "*We observe that at n_estimators=30 the probability distribution relative to the baseline is well converged.*"
   ]
  }
 ],
 "metadata": {
  "anaconda-cloud": {},
  "kernelspec": {
   "display_name": "Python 2",
   "language": "python",
   "name": "python2"
  },
  "language_info": {
   "codemirror_mode": {
    "name": "ipython",
    "version": 2
   },
   "file_extension": ".py",
   "mimetype": "text/x-python",
   "name": "python",
   "nbconvert_exporter": "python",
   "pygments_lexer": "ipython2",
   "version": "2.7.13"
  }
 },
 "nbformat": 4,
 "nbformat_minor": 1
}
