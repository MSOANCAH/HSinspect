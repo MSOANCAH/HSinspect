{
 "cells": [
  {
   "cell_type": "markdown",
   "metadata": {},
   "source": [
    "# Map of USA, colored by violation fraction\n",
    "\n",
    "\n",
    "### This code is building up from here:\n",
    "*https://stackoverflow.com/questions/39742305/how-to-use-basemap-python-to-plot-us-with-50-states*\n",
    "\n",
    "### Note: remember to start postgresql server!"
   ]
  },
  {
   "cell_type": "code",
   "execution_count": 1,
   "metadata": {
    "collapsed": true
   },
   "outputs": [],
   "source": [
    "## Python packages\n",
    "import random\n",
    "import time\n",
    "from sqlalchemy import create_engine\n",
    "from sqlalchemy_utils import database_exists, create_database\n",
    "import psycopg2\n",
    "import pandas as pd\n",
    "\n",
    "import numpy as np\n",
    "import matplotlib.pyplot as plt\n",
    "%matplotlib inline"
   ]
  },
  {
   "cell_type": "code",
   "execution_count": 2,
   "metadata": {
    "collapsed": true
   },
   "outputs": [],
   "source": [
    "# Database name and username\n",
    "dbname = 'osha_db'\n",
    "username = 'asc'\n",
    "\n",
    "# Connection to SQL database\n",
    "conn = None\n",
    "conn = psycopg2.connect(database = dbname, user = username)"
   ]
  },
  {
   "cell_type": "code",
   "execution_count": 3,
   "metadata": {
    "collapsed": true
   },
   "outputs": [],
   "source": [
    "# Define dictionaries with state names and abbreviations\n",
    "\n",
    "# Initialize violation fractions to zero\n",
    "violation_fractions = {\n",
    "'New Jersey':    0.0,\n",
    "'Rhode Island':  0.0,\n",
    "'Massachusetts': 0.0,\n",
    "'Connecticut':   0.0,\n",
    "'Maryland':      0.0,\n",
    "'New York':      0.0,\n",
    "'Delaware':      0.0,\n",
    "'Florida':       0.0,\n",
    "'Ohio':          0.0,\n",
    "'Pennsylvania':  0.0,\n",
    "'Illinois':      0.0,\n",
    "'California':    0.0,\n",
    "'Hawaii':        0.0,\n",
    "'Virginia':      0.0,\n",
    "'Michigan':      0.0,\n",
    "'Indiana':       0.0,\n",
    "'North Carolina':0.0,\n",
    "'Georgia':       0.0,\n",
    "'Tennessee':     0.0,\n",
    "'New Hampshire': 0.0,\n",
    "'South Carolina':0.0,\n",
    "'Louisiana':     0.0,\n",
    "'Kentucky':      0.0,\n",
    "'Wisconsin':     0.0,\n",
    "'Washington':    0.0,\n",
    "'Alabama':       0.0,\n",
    "'Missouri':      0.0,\n",
    "'Texas':         0.0,\n",
    "'West Virginia': 0.0,\n",
    "'Vermont':       0.0,\n",
    "'Minnesota':     0.0,\n",
    "'Mississippi':   0.0,\n",
    "'Iowa':          0.0,\n",
    "'Arkansas':      0.0,\n",
    "'Oklahoma':      0.0,\n",
    "'Arizona':       0.0,\n",
    "'Colorado':      0.0,\n",
    "'Maine':         0.0,\n",
    "'Oregon':        0.0,\n",
    "'Kansas':        0.0,\n",
    "'Utah':          0.0,\n",
    "'Nebraska':      0.0,\n",
    "'Nevada':        0.0,\n",
    "'Idaho':         0.0,\n",
    "'New Mexico':    0.0,\n",
    "'South Dakota':  0.0,\n",
    "'North Dakota':  0.0,\n",
    "'Montana':       0.0,\n",
    "'Wyoming':       0.0,\n",
    "'Alaska':        0.0}\n",
    "\n",
    "# Map between names and state 2-letter codes\n",
    "name2abr = {\n",
    "    'Alabama': 'AL',\n",
    "    'Alaska': 'AK',\n",
    "    'Arizona': 'AZ',\n",
    "    'Arkansas': 'AR',\n",
    "    'California': 'CA',\n",
    "    'Colorado': 'CO',\n",
    "    'Connecticut': 'CT',\n",
    "    'Delaware': 'DE',\n",
    "    'Florida': 'FL',\n",
    "    'Georgia': 'GA',\n",
    "    'Hawaii': 'HI',\n",
    "    'Idaho': 'ID',\n",
    "    'Illinois': 'IL',\n",
    "    'Indiana': 'IN',\n",
    "    'Iowa': 'IA',\n",
    "    'Kansas': 'KS',\n",
    "    'Kentucky': 'KY',\n",
    "    'Louisiana': 'LA',\n",
    "    'Maine': 'ME',\n",
    "    'Maryland': 'MD',\n",
    "    'Massachusetts': 'MA',\n",
    "    'Michigan': 'MI',\n",
    "    'Minnesota': 'MN',\n",
    "    'Mississippi': 'MS',\n",
    "    'Missouri': 'MO',\n",
    "    'Montana': 'MT',\n",
    "    'Nebraska': 'NE',\n",
    "    'Nevada': 'NV',\n",
    "    'New Hampshire': 'NH',\n",
    "    'New Jersey': 'NJ',\n",
    "    'New Mexico': 'NM',\n",
    "    'New York': 'NY',\n",
    "    'North Carolina': 'NC',\n",
    "    'North Dakota': 'ND',\n",
    "    'Ohio': 'OH',\n",
    "    'Oklahoma': 'OK',\n",
    "    'Oregon': 'OR',\n",
    "    'Pennsylvania': 'PA',\n",
    "    'Rhode Island': 'RI',\n",
    "    'South Carolina': 'SC',\n",
    "    'South Dakota': 'SD',\n",
    "    'Tennessee': 'TN',\n",
    "    'Texas': 'TX',\n",
    "    'Utah': 'UT',\n",
    "    'Vermont': 'VT',\n",
    "    'Virginia': 'VA',\n",
    "    'Washington': 'WA',\n",
    "    'West Virginia': 'WV',\n",
    "    'Wisconsin': 'WI',\n",
    "    'Wyoming': 'WY',\n",
    "}"
   ]
  },
  {
   "cell_type": "code",
   "execution_count": 4,
   "metadata": {
    "collapsed": true
   },
   "outputs": [],
   "source": [
    "# \n",
    "sql_query = '''\n",
    "SELECT open_date, site_state, is_violation FROM inspections_table;\n",
    "'''"
   ]
  },
  {
   "cell_type": "code",
   "execution_count": 5,
   "metadata": {},
   "outputs": [
    {
     "data": {
      "text/plain": [
       "Index([u'open_date', u'site_state', u'is_violation'], dtype='object')"
      ]
     },
     "execution_count": 5,
     "metadata": {},
     "output_type": "execute_result"
    }
   ],
   "source": [
    "# Select only date and violations\n",
    "usa_data = pd.read_sql_query(sql_query, conn)\n",
    "usa_data.columns"
   ]
  },
  {
   "cell_type": "code",
   "execution_count": 8,
   "metadata": {},
   "outputs": [],
   "source": [
    "# Select data from 1996-2015\n",
    "\n",
    "start_date = '1996-1-1'\n",
    "end_date   = '2016-1-1'\n",
    "\n",
    "# Dataframe must be Series with dtype datetime64[ns]\n",
    "usa_data['open_date'] = pd.to_datetime(usa_data['open_date'])  \n",
    "mask = (usa_data['open_date'] > start_date) & (usa_data['open_date'] <= end_date)\n",
    "usa_data = usa_data.loc[mask]"
   ]
  },
  {
   "cell_type": "code",
   "execution_count": 9,
   "metadata": {
    "collapsed": true
   },
   "outputs": [],
   "source": [
    "# Calculate violation fractions for all 50 states\n",
    "\n",
    "# First, create dataframes grouping by state\n",
    "inspections = usa_data.groupby(['site_state']).count()\n",
    "violations = usa_data.groupby(['site_state']).sum()\n",
    "\n",
    "# Then, reset the index on those dataframes so \n",
    "# they can be accessed by the label\n",
    "inspections= inspections.reset_index() \n",
    "violations = violations.reset_index()\n",
    "\n",
    "# Finally, iterate over the dictionary of states\n",
    "# and save the violation fractions\n",
    "for key in name2abr:\n",
    "    \n",
    "    abr = name2abr[key]\n",
    "    Ninspections = float(inspections[inspections['site_state']==abr]['is_violation'].values)\n",
    "    Nviolations  = float(violations[violations['site_state']  ==abr]['is_violation'].values)\n",
    "    \n",
    "    violation_fractions[key] = Nviolations/Ninspections"
   ]
  },
  {
   "cell_type": "code",
   "execution_count": 17,
   "metadata": {},
   "outputs": [
    {
     "data": {
      "image/png": "[encoded data removed]",
      "text/plain": [
       "<matplotlib.figure.Figure at 0x146236290>"
      ]
     },
     "metadata": {},
     "output_type": "display_data"
    }
   ],
   "source": [
    "# Generate map\n",
    "from mpl_toolkits.basemap import Basemap as Basemap\n",
    "from matplotlib.colors import rgb2hex\n",
    "from matplotlib.patches import Polygon\n",
    "\n",
    "# Lambert Conformal map of lower 48 states.\n",
    "m = Basemap(llcrnrlon=-119,llcrnrlat=22,urcrnrlon=-64,urcrnrlat=49,\n",
    "        projection='lcc',lat_1=33,lat_2=45,lon_0=-95)\n",
    "# draw state boundaries.\n",
    "# data from http://www.census.gov/geo/www/cob/st2000.html\n",
    "shp_info = m.readshapefile('./mapfiles/st99_d00','states',drawbounds=True)\n",
    "\n",
    "\n",
    "\n",
    "# Color states by their violation ratio\n",
    "colors={}\n",
    "statenames=[]\n",
    "cmap = plt.cm.autumn       # use 'hot' colormap\n",
    "\n",
    "# Set value range (for coloring)\n",
    "vmin = max([violation_fractions[key] for key in violation_fractions])\n",
    "vmax = min([violation_fractions[key] for key in violation_fractions])\n",
    "\n",
    "for shapedict in m.states_info:\n",
    "    statename = shapedict['NAME']\n",
    "    # skip DC and Puerto Rico.\n",
    "    if statename not in ['District of Columbia','Puerto Rico']:\n",
    "        pop = violation_fractions[statename]\n",
    "        # calling colormap with value between 0 and 1 returns\n",
    "        # rgba value.  Invert color range (hot colors are high\n",
    "        # population), take sqrt root to spread out colors more.\n",
    "        colors[statename] = cmap(np.sqrt((pop-vmin)/(vmax-vmin)))[:3]\n",
    "    statenames.append(statename)\n",
    "\n",
    "# cycle through state names, color each one.\n",
    "ax = plt.gca() \n",
    "ax.axis('off') # no frame\n",
    "for nshape,seg in enumerate(m.states):\n",
    "    # skip DC and Puerto Rico, Alaska and Hawaii\n",
    "    if statenames[nshape] not in ['Puerto Rico', 'District of Columbia', 'Alaska', 'Hawaii']:\n",
    "    # Offset Alaska and Hawaii to the lower-left corner. \n",
    "        #if statenames[nshape] == 'Alaska':\n",
    "        # Alaska is too big. Scale it down to 35% first, then tranlsate it. \n",
    "        #    seg = list(map(lambda (x,y): (0.35*x + 1100000, 0.35*y-1800000), seg))\n",
    "        #if statenames[nshape] == 'Hawaii':\n",
    "        #    seg = list(map(lambda (x,y): (x + 5100000, y-1400000), seg))\n",
    "\n",
    "        color = rgb2hex(colors[statenames[nshape]]) \n",
    "        poly = Polygon(seg,facecolor=color,edgecolor=color)\n",
    "        ax.add_patch(poly)\n",
    "\n",
    "\n",
    "\n",
    "#m.colorbar(poly)#, location='bottom',pad=\"5%\")\n",
    "plt.title('Violation fractions', fontsize=18)\n",
    "plt.savefig('./usa-states-map_violationfraction.png', bbox_inches='tight', dpi=600)"
   ]
  }
 ],
 "metadata": {
  "anaconda-cloud": {},
  "kernelspec": {
   "display_name": "Python 2",
   "language": "python",
   "name": "python2"
  },
  "language_info": {
   "codemirror_mode": {
    "name": "ipython",
    "version": 2
   },
   "file_extension": ".py",
   "mimetype": "text/x-python",
   "name": "python",
   "nbconvert_exporter": "python",
   "pygments_lexer": "ipython2",
   "version": "2.7.13"
  }
 },
 "nbformat": 4,
 "nbformat_minor": 1
}
